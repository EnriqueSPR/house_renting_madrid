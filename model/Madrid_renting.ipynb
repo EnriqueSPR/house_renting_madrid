{
 "cells": [
  {
   "cell_type": "code",
   "execution_count": 2,
   "metadata": {},
   "outputs": [],
   "source": [
    "import numpy as np\n",
    "import pandas as pd\n",
    "import itertools\n",
    "import matplotlib.pyplot as plt\n",
    "import seaborn as sns\n",
    "sns.set()\n",
    "from bs4 import BeautifulSoup\n",
    "import requests\n",
    "import csv"
   ]
  },
  {
   "cell_type": "markdown",
   "metadata": {},
   "source": [
    "# 1. Scrapping data"
   ]
  },
  {
   "cell_type": "code",
   "execution_count": 997,
   "metadata": {},
   "outputs": [],
   "source": [
    "\n",
    "headers = ({'User-Agent': 'Mozilla/5.0 (Windows NT 6.1) AppleWebKit/537.36 (KHTML, like Gecko) Chrome/41.0.2228.0 Safari/537.36'})\n",
    "\n",
    "prices_list = []\n",
    "location_list = []\n",
    "sq_mt_list = []\n",
    "bedroom_list = []\n",
    "bathroom_list = []\n",
    "    \n",
    "for i in range(1,7): # After page 7 there is a slight change in the  html code\n",
    "    \n",
    "    website = \"https://www.pisos.com/alquiler/pisos-madrid_capital_zona_urbana/{}\".format(str(i))\n",
    "    source = requests.get(website, headers=headers).text\n",
    "    html_soup = BeautifulSoup(source, 'lxml')\n",
    "    house_containers = html_soup.find_all('div', class_=\"information exclusivo\")\n",
    "    \n",
    "    \n",
    "    prices = html_soup.find_all('div', class_=\"price\")  # We can get the list of all 30 accomodation prices\n",
    "    location = html_soup.find_all('div', class_=\"location\")\n",
    "    characteristics = html_soup.find_all('div', class_=\"characteristics\")\n",
    "\n",
    "    for j in range(len(house_containers)):\n",
    "        prices_list.append(prices[j].text.strip())\n",
    "        location_list.append(location[j].text.strip())\n",
    "        sq_mt_list.append(characteristics[j].div.text.strip())\n",
    "        bedroom_list.append(characteristics[j].div.find_next('div').text.strip())\n",
    "        bathroom_list.append(characteristics[j].div.find_next('div').find_next('div').text.strip())\n",
    "\n",
    "for i in range(7,101):\n",
    "    try:\n",
    "        website = \"https://www.pisos.com/alquiler/pisos-madrid_capital_zona_urbana/{}\".format(str(i))\n",
    "        source = requests.get(website, headers=headers).text\n",
    "        html_soup = BeautifulSoup(source, 'lxml')\n",
    "        house_containers = html_soup.find_all('div', class_=\"information\")\n",
    "\n",
    "        prices = html_soup.find_all('div', class_=\"price\")  # We can get the list of all 30 accomodation prices\n",
    "        location = html_soup.find_all('div', class_=\"location\")\n",
    "        characteristics = html_soup.find_all('div', class_=\"characteristics\")\n",
    "\n",
    "\n",
    "        for j in range(len(house_containers)):\n",
    "            prices_list.append(prices[j].text.strip())\n",
    "            location_list.append(location[j].text.strip())\n",
    "            sq_mt_list.append(characteristics[j].div.text.strip())\n",
    "            bedroom_list.append(characteristics[j].div.find_next('div').text.strip())\n",
    "            bathroom_list.append(characteristics[j].div.find_next('div').find_next('div').text.strip())\n",
    "            \n",
    "    except IndexError:\n",
    "        pass\n",
    "        \n",
    "house_features = (list(zip(prices_list, location_list, sq_mt_list, bedroom_list, bathroom_list)))\n",
    "\n",
    "data = pd.DataFrame(house_features, columns =[\"rent_price\", \"location\", \"sq_mt\", \"bedroom_n\", \"bathroom_n\"])\n",
    "\n",
    "data.to_csv(\"Df_rent_madrid3.csv\", index=False)"
   ]
  },
  {
   "cell_type": "code",
   "execution_count": null,
   "metadata": {},
   "outputs": [],
   "source": []
  },
  {
   "cell_type": "markdown",
   "metadata": {},
   "source": [
    "# 2. Data Cleaning"
   ]
  },
  {
   "cell_type": "code",
   "execution_count": 3,
   "metadata": {},
   "outputs": [],
   "source": [
    "df2 = pd.read_csv(\"Df_rent_madrid2.csv\")"
   ]
  },
  {
   "cell_type": "code",
   "execution_count": 4,
   "metadata": {},
   "outputs": [
    {
     "data": {
      "text/plain": [
       "(2953, 5)"
      ]
     },
     "execution_count": 4,
     "metadata": {},
     "output_type": "execute_result"
    }
   ],
   "source": [
    "df2.shape"
   ]
  },
  {
   "cell_type": "code",
   "execution_count": 5,
   "metadata": {},
   "outputs": [],
   "source": [
    "df = pd.read_csv(\"Df_rent_madrid.csv\")"
   ]
  },
  {
   "cell_type": "code",
   "execution_count": 6,
   "metadata": {},
   "outputs": [],
   "source": [
    "df = pd.concat([df,df2], axis=0)"
   ]
  },
  {
   "cell_type": "code",
   "execution_count": 7,
   "metadata": {},
   "outputs": [],
   "source": [
    "pd.set_option(\"display.max_rows\", 90)"
   ]
  },
  {
   "cell_type": "code",
   "execution_count": 8,
   "metadata": {},
   "outputs": [],
   "source": [
    "df.drop_duplicates(keep=False,inplace=True)"
   ]
  },
  {
   "cell_type": "code",
   "execution_count": 9,
   "metadata": {},
   "outputs": [
    {
     "data": {
      "text/plain": [
       "(4566, 5)"
      ]
     },
     "execution_count": 9,
     "metadata": {},
     "output_type": "execute_result"
    }
   ],
   "source": [
    "df.shape"
   ]
  },
  {
   "cell_type": "code",
   "execution_count": 10,
   "metadata": {},
   "outputs": [],
   "source": [
    "df[\"rent_price\"] = df[\"rent_price\"].str.replace(\".\", \"\").str.replace(\" €/mes\", \"\")\n",
    "df[\"sq_mt\"] = df[\"sq_mt\"].str.replace(\".\", \"\").str.replace(\" m²\", \"\")"
   ]
  },
  {
   "cell_type": "code",
   "execution_count": 11,
   "metadata": {},
   "outputs": [],
   "source": [
    "def str_to_int(item):\n",
    "    try: \n",
    "        return int(item)\n",
    "    except ValueError:\n",
    "        return np.nan"
   ]
  },
  {
   "cell_type": "code",
   "execution_count": 12,
   "metadata": {},
   "outputs": [],
   "source": [
    "df[\"rent_price\"] = df[\"rent_price\"].apply(str_to_int)\n",
    "df[\"sq_mt\"] = df[\"sq_mt\"].apply(str_to_int)\n",
    "df[\"bedroom_n\"] = df[\"bedroom_n\"].apply(str_to_int)\n",
    "df[\"bathroom_n\"] = df[\"bathroom_n\"].apply(str_to_int)"
   ]
  },
  {
   "cell_type": "code",
   "execution_count": 13,
   "metadata": {},
   "outputs": [
    {
     "data": {
      "text/plain": [
       "rent_price    float64\n",
       "location       object\n",
       "sq_mt         float64\n",
       "bedroom_n     float64\n",
       "bathroom_n    float64\n",
       "dtype: object"
      ]
     },
     "execution_count": 13,
     "metadata": {},
     "output_type": "execute_result"
    }
   ],
   "source": [
    "df.dtypes"
   ]
  },
  {
   "cell_type": "code",
   "execution_count": 14,
   "metadata": {},
   "outputs": [
    {
     "data": {
      "text/plain": [
       "rent_price      3\n",
       "location        0\n",
       "sq_mt           5\n",
       "bedroom_n      28\n",
       "bathroom_n    312\n",
       "dtype: int64"
      ]
     },
     "execution_count": 14,
     "metadata": {},
     "output_type": "execute_result"
    }
   ],
   "source": [
    "df.isna().sum()"
   ]
  },
  {
   "cell_type": "code",
   "execution_count": 15,
   "metadata": {},
   "outputs": [],
   "source": [
    "df_loc = df[\"location\"]"
   ]
  },
  {
   "cell_type": "code",
   "execution_count": 16,
   "metadata": {},
   "outputs": [],
   "source": [
    "df_loc = df_loc.reset_index().drop(\"index\", axis=1)"
   ]
  },
  {
   "cell_type": "code",
   "execution_count": 17,
   "metadata": {},
   "outputs": [],
   "source": [
    "df.drop(\"location\", axis=1, inplace=True) # we need to remove the cat variables for the method below to work"
   ]
  },
  {
   "cell_type": "code",
   "execution_count": 18,
   "metadata": {},
   "outputs": [],
   "source": [
    "from sklearn.impute import SimpleImputer # we can use this method from sklearn to fill the nan values with the meadian of each attribute\n",
    "imputer = SimpleImputer(strategy = \"median\")\n",
    "imputer.fit(df)\n",
    "imputer.statistics_\n",
    "df = pd.DataFrame(imputer.transform(df), columns = [\"rent_price\", \"sq_mt\", \"bedroom_n\", \"bathroom_n\"])"
   ]
  },
  {
   "cell_type": "code",
   "execution_count": 19,
   "metadata": {},
   "outputs": [
    {
     "data": {
      "text/plain": [
       "rent_price    0\n",
       "sq_mt         0\n",
       "bedroom_n     0\n",
       "bathroom_n    0\n",
       "dtype: int64"
      ]
     },
     "execution_count": 19,
     "metadata": {},
     "output_type": "execute_result"
    }
   ],
   "source": [
    "df.isna().sum()"
   ]
  },
  {
   "cell_type": "code",
   "execution_count": 20,
   "metadata": {},
   "outputs": [
    {
     "data": {
      "text/html": [
       "<div>\n",
       "<style scoped>\n",
       "    .dataframe tbody tr th:only-of-type {\n",
       "        vertical-align: middle;\n",
       "    }\n",
       "\n",
       "    .dataframe tbody tr th {\n",
       "        vertical-align: top;\n",
       "    }\n",
       "\n",
       "    .dataframe thead th {\n",
       "        text-align: right;\n",
       "    }\n",
       "</style>\n",
       "<table border=\"1\" class=\"dataframe\">\n",
       "  <thead>\n",
       "    <tr style=\"text-align: right;\">\n",
       "      <th></th>\n",
       "      <th>rent_price</th>\n",
       "      <th>sq_mt</th>\n",
       "      <th>bedroom_n</th>\n",
       "      <th>bathroom_n</th>\n",
       "    </tr>\n",
       "  </thead>\n",
       "  <tbody>\n",
       "    <tr>\n",
       "      <th>0</th>\n",
       "      <td>750.0</td>\n",
       "      <td>70.0</td>\n",
       "      <td>3.0</td>\n",
       "      <td>1.0</td>\n",
       "    </tr>\n",
       "    <tr>\n",
       "      <th>1</th>\n",
       "      <td>800.0</td>\n",
       "      <td>46.0</td>\n",
       "      <td>1.0</td>\n",
       "      <td>1.0</td>\n",
       "    </tr>\n",
       "    <tr>\n",
       "      <th>2</th>\n",
       "      <td>2000.0</td>\n",
       "      <td>123.0</td>\n",
       "      <td>3.0</td>\n",
       "      <td>2.0</td>\n",
       "    </tr>\n",
       "    <tr>\n",
       "      <th>3</th>\n",
       "      <td>1600.0</td>\n",
       "      <td>135.0</td>\n",
       "      <td>3.0</td>\n",
       "      <td>2.0</td>\n",
       "    </tr>\n",
       "    <tr>\n",
       "      <th>4</th>\n",
       "      <td>800.0</td>\n",
       "      <td>55.0</td>\n",
       "      <td>1.0</td>\n",
       "      <td>1.0</td>\n",
       "    </tr>\n",
       "    <tr>\n",
       "      <th>...</th>\n",
       "      <td>...</td>\n",
       "      <td>...</td>\n",
       "      <td>...</td>\n",
       "      <td>...</td>\n",
       "    </tr>\n",
       "    <tr>\n",
       "      <th>4561</th>\n",
       "      <td>1800.0</td>\n",
       "      <td>110.0</td>\n",
       "      <td>2.0</td>\n",
       "      <td>2.0</td>\n",
       "    </tr>\n",
       "    <tr>\n",
       "      <th>4562</th>\n",
       "      <td>975.0</td>\n",
       "      <td>60.0</td>\n",
       "      <td>2.0</td>\n",
       "      <td>1.0</td>\n",
       "    </tr>\n",
       "    <tr>\n",
       "      <th>4563</th>\n",
       "      <td>2800.0</td>\n",
       "      <td>180.0</td>\n",
       "      <td>4.0</td>\n",
       "      <td>2.0</td>\n",
       "    </tr>\n",
       "    <tr>\n",
       "      <th>4564</th>\n",
       "      <td>2400.0</td>\n",
       "      <td>72.0</td>\n",
       "      <td>2.0</td>\n",
       "      <td>2.0</td>\n",
       "    </tr>\n",
       "    <tr>\n",
       "      <th>4565</th>\n",
       "      <td>2600.0</td>\n",
       "      <td>140.0</td>\n",
       "      <td>2.0</td>\n",
       "      <td>2.0</td>\n",
       "    </tr>\n",
       "  </tbody>\n",
       "</table>\n",
       "<p>4566 rows × 4 columns</p>\n",
       "</div>"
      ],
      "text/plain": [
       "      rent_price  sq_mt  bedroom_n  bathroom_n\n",
       "0          750.0   70.0        3.0         1.0\n",
       "1          800.0   46.0        1.0         1.0\n",
       "2         2000.0  123.0        3.0         2.0\n",
       "3         1600.0  135.0        3.0         2.0\n",
       "4          800.0   55.0        1.0         1.0\n",
       "...          ...    ...        ...         ...\n",
       "4561      1800.0  110.0        2.0         2.0\n",
       "4562       975.0   60.0        2.0         1.0\n",
       "4563      2800.0  180.0        4.0         2.0\n",
       "4564      2400.0   72.0        2.0         2.0\n",
       "4565      2600.0  140.0        2.0         2.0\n",
       "\n",
       "[4566 rows x 4 columns]"
      ]
     },
     "execution_count": 20,
     "metadata": {},
     "output_type": "execute_result"
    }
   ],
   "source": [
    "df"
   ]
  },
  {
   "cell_type": "code",
   "execution_count": 21,
   "metadata": {},
   "outputs": [],
   "source": [
    "df = pd.concat([df, df_loc], axis=1)"
   ]
  },
  {
   "cell_type": "code",
   "execution_count": 22,
   "metadata": {},
   "outputs": [],
   "source": [
    "# parse the location\n",
    "df[\"specific_location\"] = df[\"location\"].str.split(\"(\", expand=True)[0] # 132 locs"
   ]
  },
  {
   "cell_type": "code",
   "execution_count": 23,
   "metadata": {},
   "outputs": [],
   "source": [
    "df[\"area_madrid\"] = df[\"location\"].str.split(\"(\", expand=True)[1].str.split(\".\", expand=True)[0].str.replace(\"Distrito \", \"\") # 22 locs"
   ]
  },
  {
   "cell_type": "code",
   "execution_count": 24,
   "metadata": {},
   "outputs": [],
   "source": [
    "df.drop(\"location\", axis=1, inplace=True)"
   ]
  },
  {
   "cell_type": "code",
   "execution_count": 25,
   "metadata": {},
   "outputs": [],
   "source": [
    "df.loc[df[\"area_madrid\"]== \"Madrid Capital)\"] = np.nan"
   ]
  },
  {
   "cell_type": "code",
   "execution_count": 26,
   "metadata": {},
   "outputs": [
    {
     "data": {
      "text/plain": [
       "rent_price           1\n",
       "sq_mt                1\n",
       "bedroom_n            1\n",
       "bathroom_n           1\n",
       "specific_location    1\n",
       "area_madrid          1\n",
       "dtype: int64"
      ]
     },
     "execution_count": 26,
     "metadata": {},
     "output_type": "execute_result"
    }
   ],
   "source": [
    "df.isna().sum()"
   ]
  },
  {
   "cell_type": "code",
   "execution_count": 27,
   "metadata": {},
   "outputs": [],
   "source": [
    "df.dropna(how=\"any\", inplace=True)"
   ]
  },
  {
   "cell_type": "raw",
   "metadata": {},
   "source": [
    "Feature Engineering"
   ]
  },
  {
   "cell_type": "code",
   "execution_count": 28,
   "metadata": {},
   "outputs": [],
   "source": [
    "df[\"rent_m2\"] = df[\"rent_price\"]/df[\"sq_mt\"]"
   ]
  },
  {
   "cell_type": "code",
   "execution_count": 29,
   "metadata": {},
   "outputs": [],
   "source": [
    "df[\"bath_bed_ratio\"] = df[\"bathroom_n\"]/df[\"bedroom_n\"]"
   ]
  },
  {
   "cell_type": "markdown",
   "metadata": {},
   "source": [
    "# 3. Exploratory Data Analyses (EDA)"
   ]
  },
  {
   "cell_type": "code",
   "execution_count": 30,
   "metadata": {},
   "outputs": [
    {
     "data": {
      "text/plain": [
       "rent_price           float64\n",
       "sq_mt                float64\n",
       "bedroom_n            float64\n",
       "bathroom_n           float64\n",
       "specific_location     object\n",
       "area_madrid           object\n",
       "rent_m2              float64\n",
       "bath_bed_ratio       float64\n",
       "dtype: object"
      ]
     },
     "execution_count": 30,
     "metadata": {},
     "output_type": "execute_result"
    }
   ],
   "source": [
    "df.dtypes"
   ]
  },
  {
   "cell_type": "code",
   "execution_count": 31,
   "metadata": {},
   "outputs": [],
   "source": [
    "# divinding out data set into numeric and object\n",
    "df_num = df.select_dtypes(include=[\"int32\", \"float64\"])\n",
    "df_cat = df.select_dtypes(include=\"object\")"
   ]
  },
  {
   "cell_type": "code",
   "execution_count": 32,
   "metadata": {},
   "outputs": [
    {
     "data": {
      "image/png": "[encoded data removed]",
      "text/plain": [
       "<Figure size 720x576 with 9 Axes>"
      ]
     },
     "metadata": {},
     "output_type": "display_data"
    }
   ],
   "source": [
    "# outliers?\n",
    "df_num.plot(kind='box', subplots=True, layout=(3,3), sharex=False, sharey=False, figsize=(10,8), color=\"b\")\n",
    "plt.tight_layout()\n",
    "# plt.savefig(\"boxplots\", dpi=400)\n",
    "plt.show()"
   ]
  },
  {
   "cell_type": "code",
   "execution_count": 33,
   "metadata": {},
   "outputs": [],
   "source": [
    "# lets remove all rents above 6000 eur and see the result\n",
    "filt4 = (df[\"rent_price\"] > 10000)\n",
    "filt5 = (df[\"rent_price\"] == df[\"sq_mt\"])\n",
    "filt6 = (df[\"bedroom_n\"] > 10)\n",
    "filt7 = (df[\"bathroom_n\"] > 8)\n",
    "filt8 = (df[\"bath_bed_ratio\"] >= 2)"
   ]
  },
  {
   "cell_type": "code",
   "execution_count": 34,
   "metadata": {},
   "outputs": [],
   "source": [
    "df.loc[filt4] = np.nan\n",
    "df.loc[filt5] = np.nan\n",
    "df.loc[filt6] = np.nan\n",
    "df.loc[filt7] = np.nan\n",
    "# df.loc[filt8]"
   ]
  },
  {
   "cell_type": "code",
   "execution_count": 35,
   "metadata": {},
   "outputs": [],
   "source": [
    "df.dropna(how=\"any\", inplace=True)"
   ]
  },
  {
   "cell_type": "code",
   "execution_count": 36,
   "metadata": {},
   "outputs": [],
   "source": [
    "df = df.reset_index().drop(\"index\", axis=1)"
   ]
  },
  {
   "cell_type": "code",
   "execution_count": 37,
   "metadata": {},
   "outputs": [
    {
     "name": "stdout",
     "output_type": "stream",
     "text": [
      "sq_mt\n",
      "0.570430057360732\n",
      "bedroom_n\n",
      "0.4294674379796528\n",
      "bathroom_n\n",
      "7.362410787796424e-05\n"
     ]
    }
   ],
   "source": [
    "# Principal Component Analysis (PCA) identifies the combination of components \n",
    "# (directions in the feature space) that account for the most variance in the data.\n",
    "from sklearn.decomposition import PCA\n",
    "n_comp=3\n",
    "X_df = df_num.drop(['rent_price'], axis=1)\n",
    "X = X_df.values\n",
    "pca = PCA(n_components=n_comp, svd_solver='full', random_state=0)\n",
    "X_pca = pca.fit_transform(X)\n",
    "for i in range(n_comp):\n",
    "    print(X_df.columns[i])\n",
    "    print(pca.explained_variance_ratio_[i])"
   ]
  },
  {
   "cell_type": "code",
   "execution_count": 38,
   "metadata": {},
   "outputs": [
    {
     "name": "stdout",
     "output_type": "stream",
     "text": [
      "Skewness\n",
      "rent_price: 3.15415113868275\n",
      "sq_mt: 4.49182290317642\n",
      "bedroom_n: 1.087019401728086\n",
      "bathroom_n: 2.336566986020104\n",
      "rent_m2: 11.979930064908794\n",
      "bath_bed_ratio: 0.8005586858011893\n"
     ]
    }
   ],
   "source": [
    "# Our data is positively skewed, which can impact negatively the predict powers of our model\n",
    "print(\"Skewness\")\n",
    "for i in df_num.columns:\n",
    "    print(\"{}:\".format(i), df[i].skew()) "
   ]
  },
  {
   "cell_type": "code",
   "execution_count": 39,
   "metadata": {},
   "outputs": [
    {
     "name": "stdout",
     "output_type": "stream",
     "text": [
      "Skewness\n",
      "rent_price log transformed: 0.6307087945717019\n",
      "sq_mt log transformed: -1.5458165472014305\n",
      "bedroom_n log transformed: 0.05638714621809204\n",
      "bathroom_n log transformed: 1.0769754576833497\n",
      "rent_m2 log transformed: 4.16537965299119\n",
      "bath_bed_ratio log transformed: -0.44760321013334686\n",
      "====================================================\n",
      "rent_price sqrt transformed: 1.8065952712063063\n",
      "sq_mt sqrt transformed: 1.5914716973525485\n",
      "bedroom_n sqrt transformed: 0.4821882478959281\n",
      "bathroom_n sqrt transformed: 1.5598857282459688\n",
      "rent_m2 sqrt transformed: 9.022983724761746\n",
      "bath_bed_ratio sqrt transformed: 0.06361573798818812\n",
      "====================================================\n",
      "rent_price boxcox transformed: 0.6307087945717019\n",
      "sq_mt boxcox transformed: -1.5458165472014305\n",
      "bedroom_n boxcox transformed: 0.05638714621809204\n",
      "bathroom_n boxcox transformed: 1.0769754576833497\n",
      "rent_m2 boxcox transformed: 4.16537965299119\n",
      "bath_bed_ratio boxcox transformed: -0.44760321013334686\n"
     ]
    }
   ],
   "source": [
    "# In this project we wil try log transformation, sqrt and boxcox. \n",
    "# We could however standarize the data using feature scaling which will bring a normal dirtribution of the data\n",
    "from scipy import stats\n",
    "from scipy.special import boxcox, inv_boxcox\n",
    "\n",
    "print(\"Skewness\")\n",
    "\n",
    "for i in df_num.columns:\n",
    "    print(\"{} log transformed:\".format(i), np.log(df[i]).skew())\n",
    "    \n",
    "print(\"====================================================\")\n",
    "\n",
    "for i in df_num.columns:\n",
    "    print(\"{} sqrt transformed:\".format(i), np.sqrt(df[i]).skew())\n",
    "    \n",
    "print(\"====================================================\")\n",
    "\n",
    "for i in df_num.columns:\n",
    "    print(\"{} boxcox transformed:\".format(i), boxcox(df[i],0).skew())"
   ]
  },
  {
   "cell_type": "code",
   "execution_count": 40,
   "metadata": {},
   "outputs": [],
   "source": [
    "df_num_log = pd.DataFrame()\n",
    "df_num_sqrt = pd.DataFrame()\n",
    "df_num_boxcox = pd.DataFrame()"
   ]
  },
  {
   "cell_type": "code",
   "execution_count": 41,
   "metadata": {},
   "outputs": [],
   "source": [
    "for i in df_num.columns:\n",
    "    df_num_log[i] = np.log(df[i])\n",
    "    \n",
    "for i in df_num.columns:\n",
    "    df_num_sqrt[i] = np.sqrt(df[i])\n",
    "    \n",
    "for i in df_num.columns:\n",
    "    df_num_boxcox[i] = boxcox(df[i],0)"
   ]
  },
  {
   "cell_type": "code",
   "execution_count": 42,
   "metadata": {},
   "outputs": [
    {
     "data": {
      "image/png": "[encoded data removed]",
      "text/plain": [
       "<Figure size 648x360 with 6 Axes>"
      ]
     },
     "metadata": {},
     "output_type": "display_data"
    }
   ],
   "source": [
    "fig, ((ax1,ax2,ax3),(ax4,ax5,ax6)) = plt.subplots(2,3, figsize=(9,5))\n",
    "\n",
    "ax1.hist(df_num[\"rent_price\"],color=\"k\", bins=30)\n",
    "ax1.set_title(\"Rent price\")\n",
    "ax2.hist(df_num[\"sq_mt\"],color=\"b\", bins=30)\n",
    "ax2.set_title(\"Surface Area (m2)\")\n",
    "ax3.hist(df_num[\"rent_m2\"],color=\"grey\", bins=30)\n",
    "ax3.set_title(\"Rent per m2\")\n",
    "ax4.hist(df_num[\"bedroom_n\"],color=\"r\", bins=30)\n",
    "ax4.set_title(\"Number of Bedrooms\")\n",
    "ax5.hist(df_num[\"bathroom_n\"],color=\"g\", bins=30)\n",
    "ax5.set_title(\"Number of Bathrooms\")\n",
    "ax6.hist(df_num[\"bath_bed_ratio\"],color=\"y\", bins=30)\n",
    "ax6.set_title(\"Ratio Bath/Bed\")\n",
    "fig.text(0.4, 1,\"Histogram no transformation\", fontsize=14)\n",
    "plt.tight_layout()\n",
    "# plt.savefig(\"hist_no_transformation.png\", dpi=400)\n",
    "plt.show()"
   ]
  },
  {
   "cell_type": "code",
   "execution_count": 43,
   "metadata": {},
   "outputs": [
    {
     "data": {
      "image/png": "[encoded data removed]",
      "text/plain": [
       "<Figure size 648x432 with 9 Axes>"
      ]
     },
     "metadata": {},
     "output_type": "display_data"
    }
   ],
   "source": [
    "# Density plots are another way of getting a quick idea of the distribution of each attribute.\n",
    "df_num.plot(kind='density', subplots=True, layout=(3,3), sharex=False,figsize=(9,6))\n",
    "plt.tight_layout()\n",
    "# plt.savefig(\"densityplot.png\", dpi=400)\n",
    "plt.show()"
   ]
  },
  {
   "cell_type": "code",
   "execution_count": 44,
   "metadata": {},
   "outputs": [
    {
     "data": {
      "image/png": "[encoded data removed]",
      "text/plain": [
       "<Figure size 648x360 with 6 Axes>"
      ]
     },
     "metadata": {},
     "output_type": "display_data"
    }
   ],
   "source": [
    "fig, ((ax1,ax2,ax3),(ax4,ax5,ax6)) = plt.subplots(2,3, figsize=(9,5))\n",
    "\n",
    "ax1.hist(df_num_sqrt[\"rent_price\"],color=\"k\", bins=30)\n",
    "ax1.set_title(\"Rent price\")\n",
    "ax2.hist(df_num_sqrt[\"sq_mt\"],color=\"b\", bins=30)\n",
    "ax2.set_title(\"Surface Area (m2)\")\n",
    "ax3.hist(df_num_sqrt[\"rent_m2\"],color=\"grey\", bins=30)\n",
    "ax3.set_title(\"Rent per m2\")\n",
    "ax4.hist(df_num_sqrt[\"bedroom_n\"],color=\"r\", bins=30)\n",
    "ax4.set_title(\"Number of Bedrooms\")\n",
    "ax5.hist(df_num_sqrt[\"bathroom_n\"],color=\"g\", bins=30)\n",
    "ax5.set_title(\"Number of Bathrooms\")\n",
    "ax6.hist(df_num_sqrt[\"bath_bed_ratio\"],color=\"y\", bins=30)\n",
    "ax6.set_title(\"Ratio Bath/Bed\")\n",
    "fig.text(0.4, 1,\"Histogram sqrt transformation\", fontsize=14)\n",
    "plt.tight_layout()\n",
    "# plt.savefig(\"hist_sqrt_transformation.png\", dpi=400)\n",
    "plt.show()"
   ]
  },
  {
   "cell_type": "code",
   "execution_count": 45,
   "metadata": {},
   "outputs": [
    {
     "data": {
      "image/png": "[encoded data removed]",
      "text/plain": [
       "<Figure size 648x360 with 6 Axes>"
      ]
     },
     "metadata": {},
     "output_type": "display_data"
    }
   ],
   "source": [
    "fig, ((ax1,ax2,ax3),(ax4,ax5,ax6)) = plt.subplots(2,3, figsize=(9,5))\n",
    "\n",
    "ax1.hist(df_num_boxcox[\"rent_price\"],color=\"k\", bins=30)\n",
    "ax1.set_title(\"Rent price\")\n",
    "ax2.hist(df_num_boxcox[\"sq_mt\"],color=\"b\", bins=30)\n",
    "ax2.set_title(\"Surface Area (m2)\")\n",
    "ax3.hist(df_num_boxcox[\"rent_m2\"],color=\"grey\", bins=30)\n",
    "ax3.set_title(\"Rent per m2\")\n",
    "ax4.hist(df_num_boxcox[\"bedroom_n\"],color=\"r\", bins=30)\n",
    "ax4.set_title(\"Number of Bedrooms\")\n",
    "ax5.hist(df_num_boxcox[\"bathroom_n\"],color=\"g\", bins=30)\n",
    "ax5.set_title(\"Number of Bathrooms\")\n",
    "ax6.hist(df_num_boxcox[\"bath_bed_ratio\"],color=\"y\", bins=30)\n",
    "ax6.set_title(\"Ratio Bath/Bed\")\n",
    "\n",
    "fig.text(0.4, 1,\"Histogram boxcox transformation\", fontsize=14)\n",
    "plt.tight_layout()\n",
    "# plt.savefig(\"hist_boxcox.png\", dpi=400)\n",
    "plt.show()"
   ]
  },
  {
   "cell_type": "code",
   "execution_count": 46,
   "metadata": {},
   "outputs": [],
   "source": [
    " # we can also use df.transform()\n",
    "# df_log = df.transform(func=[\"log\"])"
   ]
  },
  {
   "cell_type": "code",
   "execution_count": 47,
   "metadata": {},
   "outputs": [],
   "source": [
    "# Hence the best option is to boxcot transform our data"
   ]
  },
  {
   "cell_type": "code",
   "execution_count": 48,
   "metadata": {},
   "outputs": [],
   "source": [
    "df_num_boxcox[[\"specific_location\", \"area_madrid\"]] = df[[\"specific_location\", \"area_madrid\"]]"
   ]
  },
  {
   "cell_type": "code",
   "execution_count": 49,
   "metadata": {},
   "outputs": [],
   "source": [
    "df_boxcox = df_num_boxcox"
   ]
  },
  {
   "cell_type": "code",
   "execution_count": 50,
   "metadata": {},
   "outputs": [
    {
     "data": {
      "text/plain": [
       "rent_price           0\n",
       "sq_mt                0\n",
       "bedroom_n            0\n",
       "bathroom_n           0\n",
       "rent_m2              0\n",
       "bath_bed_ratio       0\n",
       "specific_location    0\n",
       "area_madrid          0\n",
       "dtype: int64"
      ]
     },
     "execution_count": 50,
     "metadata": {},
     "output_type": "execute_result"
    }
   ],
   "source": [
    "df_num_boxcox.isna().sum()"
   ]
  },
  {
   "cell_type": "code",
   "execution_count": 51,
   "metadata": {},
   "outputs": [
    {
     "data": {
      "text/html": [
       "<div>\n",
       "<style scoped>\n",
       "    .dataframe tbody tr th:only-of-type {\n",
       "        vertical-align: middle;\n",
       "    }\n",
       "\n",
       "    .dataframe tbody tr th {\n",
       "        vertical-align: top;\n",
       "    }\n",
       "\n",
       "    .dataframe thead th {\n",
       "        text-align: right;\n",
       "    }\n",
       "</style>\n",
       "<table border=\"1\" class=\"dataframe\">\n",
       "  <thead>\n",
       "    <tr style=\"text-align: right;\">\n",
       "      <th></th>\n",
       "      <th>rent_price</th>\n",
       "      <th>sq_mt</th>\n",
       "      <th>bedroom_n</th>\n",
       "      <th>bathroom_n</th>\n",
       "      <th>rent_m2</th>\n",
       "      <th>bath_bed_ratio</th>\n",
       "      <th>specific_location</th>\n",
       "      <th>area_madrid</th>\n",
       "    </tr>\n",
       "  </thead>\n",
       "  <tbody>\n",
       "    <tr>\n",
       "      <th>0</th>\n",
       "      <td>6.620073</td>\n",
       "      <td>4.248495</td>\n",
       "      <td>1.098612</td>\n",
       "      <td>0.000000</td>\n",
       "      <td>2.371578</td>\n",
       "      <td>-1.098612</td>\n",
       "      <td>San Andrés</td>\n",
       "      <td>Villaverde</td>\n",
       "    </tr>\n",
       "    <tr>\n",
       "      <th>1</th>\n",
       "      <td>6.684612</td>\n",
       "      <td>3.828641</td>\n",
       "      <td>0.000000</td>\n",
       "      <td>0.000000</td>\n",
       "      <td>2.855970</td>\n",
       "      <td>0.000000</td>\n",
       "      <td>Prosperidad</td>\n",
       "      <td>Chamartín</td>\n",
       "    </tr>\n",
       "    <tr>\n",
       "      <th>2</th>\n",
       "      <td>7.600902</td>\n",
       "      <td>4.812184</td>\n",
       "      <td>1.098612</td>\n",
       "      <td>0.693147</td>\n",
       "      <td>2.788718</td>\n",
       "      <td>-0.405465</td>\n",
       "      <td>Argüelles</td>\n",
       "      <td>Moncloa-Aravaca</td>\n",
       "    </tr>\n",
       "    <tr>\n",
       "      <th>3</th>\n",
       "      <td>7.377759</td>\n",
       "      <td>4.905275</td>\n",
       "      <td>1.098612</td>\n",
       "      <td>0.693147</td>\n",
       "      <td>2.472484</td>\n",
       "      <td>-0.405465</td>\n",
       "      <td>La Paz</td>\n",
       "      <td>Fuencarral-El Pardo</td>\n",
       "    </tr>\n",
       "    <tr>\n",
       "      <th>4</th>\n",
       "      <td>6.684612</td>\n",
       "      <td>4.007333</td>\n",
       "      <td>0.000000</td>\n",
       "      <td>0.000000</td>\n",
       "      <td>2.677279</td>\n",
       "      <td>0.000000</td>\n",
       "      <td>Delicias</td>\n",
       "      <td>Arganzuela</td>\n",
       "    </tr>\n",
       "    <tr>\n",
       "      <th>...</th>\n",
       "      <td>...</td>\n",
       "      <td>...</td>\n",
       "      <td>...</td>\n",
       "      <td>...</td>\n",
       "      <td>...</td>\n",
       "      <td>...</td>\n",
       "      <td>...</td>\n",
       "      <td>...</td>\n",
       "    </tr>\n",
       "    <tr>\n",
       "      <th>4553</th>\n",
       "      <td>7.495542</td>\n",
       "      <td>4.700480</td>\n",
       "      <td>0.693147</td>\n",
       "      <td>0.693147</td>\n",
       "      <td>2.795062</td>\n",
       "      <td>0.000000</td>\n",
       "      <td>Jerónimos</td>\n",
       "      <td>Retiro</td>\n",
       "    </tr>\n",
       "    <tr>\n",
       "      <th>4554</th>\n",
       "      <td>6.882437</td>\n",
       "      <td>4.094345</td>\n",
       "      <td>0.693147</td>\n",
       "      <td>0.000000</td>\n",
       "      <td>2.788093</td>\n",
       "      <td>-0.693147</td>\n",
       "      <td>Argüelles</td>\n",
       "      <td>Moncloa-Aravaca</td>\n",
       "    </tr>\n",
       "    <tr>\n",
       "      <th>4555</th>\n",
       "      <td>7.937375</td>\n",
       "      <td>5.192957</td>\n",
       "      <td>1.386294</td>\n",
       "      <td>0.693147</td>\n",
       "      <td>2.744418</td>\n",
       "      <td>-0.693147</td>\n",
       "      <td>Goya</td>\n",
       "      <td>Salamanca</td>\n",
       "    </tr>\n",
       "    <tr>\n",
       "      <th>4556</th>\n",
       "      <td>7.783224</td>\n",
       "      <td>4.276666</td>\n",
       "      <td>0.693147</td>\n",
       "      <td>0.693147</td>\n",
       "      <td>3.506558</td>\n",
       "      <td>0.000000</td>\n",
       "      <td>Goya</td>\n",
       "      <td>Salamanca</td>\n",
       "    </tr>\n",
       "    <tr>\n",
       "      <th>4557</th>\n",
       "      <td>7.863267</td>\n",
       "      <td>4.941642</td>\n",
       "      <td>0.693147</td>\n",
       "      <td>0.693147</td>\n",
       "      <td>2.921624</td>\n",
       "      <td>0.000000</td>\n",
       "      <td>Almagro</td>\n",
       "      <td>Chamberí</td>\n",
       "    </tr>\n",
       "  </tbody>\n",
       "</table>\n",
       "<p>4558 rows × 8 columns</p>\n",
       "</div>"
      ],
      "text/plain": [
       "      rent_price     sq_mt  bedroom_n  bathroom_n   rent_m2  bath_bed_ratio  \\\n",
       "0       6.620073  4.248495   1.098612    0.000000  2.371578       -1.098612   \n",
       "1       6.684612  3.828641   0.000000    0.000000  2.855970        0.000000   \n",
       "2       7.600902  4.812184   1.098612    0.693147  2.788718       -0.405465   \n",
       "3       7.377759  4.905275   1.098612    0.693147  2.472484       -0.405465   \n",
       "4       6.684612  4.007333   0.000000    0.000000  2.677279        0.000000   \n",
       "...          ...       ...        ...         ...       ...             ...   \n",
       "4553    7.495542  4.700480   0.693147    0.693147  2.795062        0.000000   \n",
       "4554    6.882437  4.094345   0.693147    0.000000  2.788093       -0.693147   \n",
       "4555    7.937375  5.192957   1.386294    0.693147  2.744418       -0.693147   \n",
       "4556    7.783224  4.276666   0.693147    0.693147  3.506558        0.000000   \n",
       "4557    7.863267  4.941642   0.693147    0.693147  2.921624        0.000000   \n",
       "\n",
       "     specific_location          area_madrid  \n",
       "0          San Andrés            Villaverde  \n",
       "1         Prosperidad             Chamartín  \n",
       "2           Argüelles       Moncloa-Aravaca  \n",
       "3              La Paz   Fuencarral-El Pardo  \n",
       "4            Delicias            Arganzuela  \n",
       "...                ...                  ...  \n",
       "4553        Jerónimos                Retiro  \n",
       "4554        Argüelles       Moncloa-Aravaca  \n",
       "4555             Goya             Salamanca  \n",
       "4556             Goya             Salamanca  \n",
       "4557          Almagro              Chamberí  \n",
       "\n",
       "[4558 rows x 8 columns]"
      ]
     },
     "execution_count": 51,
     "metadata": {},
     "output_type": "execute_result"
    }
   ],
   "source": [
    "# transformmed df\n",
    "df_boxcox"
   ]
  },
  {
   "cell_type": "code",
   "execution_count": 52,
   "metadata": {},
   "outputs": [
    {
     "data": {
      "image/png": "[encoded data removed]",
      "text/plain": [
       "<Figure size 432x288 with 2 Axes>"
      ]
     },
     "metadata": {},
     "output_type": "display_data"
    }
   ],
   "source": [
    "colormap=plt.cm.magma\n",
    "plt.title(\"Pearson corr\", y=1.05, size=15)\n",
    "sns.heatmap(df_boxcox.corr(), linewidths=0.1, vmax=1.0, square=True, cmap=colormap, linecolor=\"white\", annot=True)\n",
    "# plt.savefig(\"corr.png\", dpi=400)\n",
    "plt.tight_layout()\n",
    "plt.show()"
   ]
  },
  {
   "cell_type": "code",
   "execution_count": 53,
   "metadata": {},
   "outputs": [],
   "source": [
    "corr_matrix = df_boxcox.corr()"
   ]
  },
  {
   "cell_type": "code",
   "execution_count": 54,
   "metadata": {},
   "outputs": [
    {
     "data": {
      "text/plain": [
       "rent_price        1.000000\n",
       "bathroom_n        0.751842\n",
       "sq_mt             0.697775\n",
       "bedroom_n         0.607940\n",
       "bath_bed_ratio    0.070968\n",
       "rent_m2           0.068073\n",
       "Name: rent_price, dtype: float64"
      ]
     },
     "execution_count": 54,
     "metadata": {},
     "output_type": "execute_result"
    }
   ],
   "source": [
    "corr_matrix[\"rent_price\"].sort_values(ascending=False)"
   ]
  },
  {
   "cell_type": "code",
   "execution_count": 55,
   "metadata": {},
   "outputs": [
    {
     "data": {
      "image/png": "[encoded data removed]",
      "text/plain": [
       "<Figure size 576x576 with 36 Axes>"
      ]
     },
     "metadata": {},
     "output_type": "display_data"
    }
   ],
   "source": [
    "# Scatter plots are useful for spotting structured relationships between variables,\n",
    "pd.plotting.scatter_matrix(df_boxcox, figsize=(8,8), color=\"b\")\n",
    "plt.tight_layout()\n",
    "# plt.savefig(\"scatter_matrix.png\", dpi=400)\n",
    "plt.show()"
   ]
  },
  {
   "cell_type": "raw",
   "metadata": {},
   "source": [
    "Lets dive into the data with some pivot tables to get an idea of the prices by area"
   ]
  },
  {
   "cell_type": "code",
   "execution_count": 56,
   "metadata": {},
   "outputs": [],
   "source": [
    "pivot_price_area = pd.pivot_table(df, index=[\"area_madrid\"], values=[\"rent_price\"], aggfunc=\"mean\").sort_values(by=\"area_madrid\").reset_index()"
   ]
  },
  {
   "cell_type": "code",
   "execution_count": 57,
   "metadata": {},
   "outputs": [],
   "source": [
    "pivot_area_sem =pd.pivot_table(df, index=[\"area_madrid\"], values=[\"rent_price\"], aggfunc=\"sem\").sort_values(by=\"area_madrid\").reset_index()"
   ]
  },
  {
   "cell_type": "code",
   "execution_count": 58,
   "metadata": {},
   "outputs": [],
   "source": [
    "pivot_price_area[\"sem\"] = pivot_area_sem[\"rent_price\"]"
   ]
  },
  {
   "cell_type": "code",
   "execution_count": 59,
   "metadata": {},
   "outputs": [],
   "source": [
    "pivot_price_area.sort_values(by=\"rent_price\", ascending=False, inplace=True)"
   ]
  },
  {
   "cell_type": "code",
   "execution_count": 60,
   "metadata": {
    "jupyter": {
     "source_hidden": true
    }
   },
   "outputs": [],
   "source": [
    "cnames = {\n",
    "'aliceblue':            '#F0F8FF',\n",
    "'antiquewhite':         '#FAEBD7',\n",
    "'aqua':                 '#00FFFF',\n",
    "'aquamarine':           '#7FFFD4',\n",
    "'azure':                '#F0FFFF',\n",
    "'beige':                '#F5F5DC',\n",
    "'bisque':               '#FFE4C4',\n",
    "'black':                '#000000',\n",
    "'blanchedalmond':       '#FFEBCD',\n",
    "'blue':                 '#0000FF',\n",
    "'blueviolet':           '#8A2BE2',\n",
    "'brown':                '#A52A2A',\n",
    "'burlywood':            '#DEB887',\n",
    "'cadetblue':            '#5F9EA0',\n",
    "'chartreuse':           '#7FFF00',\n",
    "'chocolate':            '#D2691E',\n",
    "'coral':                '#FF7F50',\n",
    "'cornflowerblue':       '#6495ED',\n",
    "'cornsilk':             '#FFF8DC',\n",
    "'crimson':              '#DC143C',\n",
    "'cyan':                 '#00FFFF',\n",
    "'darkblue':             '#00008B',\n",
    "'darkcyan':             '#008B8B',\n",
    "'darkgoldenrod':        '#B8860B',\n",
    "'darkgray':             '#A9A9A9',\n",
    "'darkgreen':            '#006400',\n",
    "'darkkhaki':            '#BDB76B',\n",
    "'darkmagenta':          '#8B008B',\n",
    "'darkolivegreen':       '#556B2F',\n",
    "'darkorange':           '#FF8C00',\n",
    "'darkorchid':           '#9932CC',\n",
    "'darkred':              '#8B0000',\n",
    "'darksalmon':           '#E9967A',\n",
    "'darkseagreen':         '#8FBC8F',\n",
    "'darkslateblue':        '#483D8B',\n",
    "'darkslategray':        '#2F4F4F',\n",
    "'darkturquoise':        '#00CED1',\n",
    "'darkviolet':           '#9400D3',\n",
    "'deeppink':             '#FF1493',\n",
    "'deepskyblue':          '#00BFFF',\n",
    "'dimgray':              '#696969',\n",
    "'dodgerblue':           '#1E90FF',\n",
    "'firebrick':            '#B22222',\n",
    "'floralwhite':          '#FFFAF0',\n",
    "'forestgreen':          '#228B22',\n",
    "'fuchsia':              '#FF00FF',\n",
    "'gainsboro':            '#DCDCDC',\n",
    "'ghostwhite':           '#F8F8FF',\n",
    "'gold':                 '#FFD700',\n",
    "'goldenrod':            '#DAA520',\n",
    "'gray':                 '#808080',\n",
    "'green':                '#008000',\n",
    "'greenyellow':          '#ADFF2F',\n",
    "'honeydew':             '#F0FFF0',\n",
    "'hotpink':              '#FF69B4',\n",
    "'indianred':            '#CD5C5C',\n",
    "'indigo':               '#4B0082',\n",
    "'ivory':                '#FFFFF0',\n",
    "'khaki':                '#F0E68C',\n",
    "'lavender':             '#E6E6FA',\n",
    "'lavenderblush':        '#FFF0F5',\n",
    "'lawngreen':            '#7CFC00',\n",
    "'lemonchiffon':         '#FFFACD',\n",
    "'lightblue':            '#ADD8E6',\n",
    "'lightcoral':           '#F08080',\n",
    "'lightcyan':            '#E0FFFF',\n",
    "'lightgoldenrodyellow': '#FAFAD2',\n",
    "'lightgreen':           '#90EE90',\n",
    "'lightgray':            '#D3D3D3',\n",
    "'lightpink':            '#FFB6C1',\n",
    "'lightsalmon':          '#FFA07A',\n",
    "'lightseagreen':        '#20B2AA',\n",
    "'lightskyblue':         '#87CEFA',\n",
    "'lightslategray':       '#778899',\n",
    "'lightsteelblue':       '#B0C4DE',\n",
    "'lightyellow':          '#FFFFE0',\n",
    "'lime':                 '#00FF00',\n",
    "'limegreen':            '#32CD32',\n",
    "'linen':                '#FAF0E6',\n",
    "'magenta':              '#FF00FF',\n",
    "'maroon':               '#800000',\n",
    "'mediumaquamarine':     '#66CDAA',\n",
    "'mediumblue':           '#0000CD',\n",
    "'mediumorchid':         '#BA55D3',\n",
    "'mediumpurple':         '#9370DB',\n",
    "'mediumseagreen':       '#3CB371',\n",
    "'mediumslateblue':      '#7B68EE',\n",
    "'mediumspringgreen':    '#00FA9A',\n",
    "'mediumturquoise':      '#48D1CC',\n",
    "'mediumvioletred':      '#C71585',\n",
    "'midnightblue':         '#191970',\n",
    "'mintcream':            '#F5FFFA',\n",
    "'mistyrose':            '#FFE4E1',\n",
    "'moccasin':             '#FFE4B5',\n",
    "'navajowhite':          '#FFDEAD',\n",
    "'navy':                 '#000080',\n",
    "'oldlace':              '#FDF5E6',\n",
    "'olive':                '#808000',\n",
    "'olivedrab':            '#6B8E23',\n",
    "'orange':               '#FFA500',\n",
    "'orangered':            '#FF4500',\n",
    "'orchid':               '#DA70D6',\n",
    "'palegoldenrod':        '#EEE8AA',\n",
    "'palegreen':            '#98FB98',\n",
    "'paleturquoise':        '#AFEEEE',\n",
    "'palevioletred':        '#DB7093',\n",
    "'papayawhip':           '#FFEFD5',\n",
    "'peachpuff':            '#FFDAB9',\n",
    "'peru':                 '#CD853F',\n",
    "'pink':                 '#FFC0CB',\n",
    "'plum':                 '#DDA0DD',\n",
    "'powderblue':           '#B0E0E6',\n",
    "'purple':               '#800080',\n",
    "'red':                  '#FF0000',\n",
    "'rosybrown':            '#BC8F8F',\n",
    "'royalblue':            '#4169E1',\n",
    "'saddlebrown':          '#8B4513',\n",
    "'salmon':               '#FA8072',\n",
    "'sandybrown':           '#FAA460',\n",
    "'seagreen':             '#2E8B57',\n",
    "'seashell':             '#FFF5EE',\n",
    "'sienna':               '#A0522D',\n",
    "'silver':               '#C0C0C0',\n",
    "'skyblue':              '#87CEEB',\n",
    "'slateblue':            '#6A5ACD',\n",
    "'slategray':            '#708090',\n",
    "'snow':                 '#FFFAFA',\n",
    "'springgreen':          '#00FF7F',\n",
    "'steelblue':            '#4682B4',\n",
    "'tan':                  '#D2B48C',\n",
    "'teal':                 '#008080',\n",
    "'thistle':              '#D8BFD8',\n",
    "'tomato':               '#FF6347',\n",
    "'turquoise':            '#40E0D0',\n",
    "'violet':               '#EE82EE',\n",
    "'wheat':                '#F5DEB3',\n",
    "'white':                '#FFFFFF',\n",
    "'whitesmoke':           '#F5F5F5',\n",
    "'yellow':               '#FFFF00',\n",
    "'yellowgreen':          '#9ACD32'}"
   ]
  },
  {
   "cell_type": "code",
   "execution_count": 61,
   "metadata": {},
   "outputs": [],
   "source": [
    "list_colors = list(cnames.values())"
   ]
  },
  {
   "cell_type": "code",
   "execution_count": 62,
   "metadata": {},
   "outputs": [],
   "source": [
    "#generating a random  list of colors\n",
    "random_color_list = list(pd.Series(list_colors).sample(21))"
   ]
  },
  {
   "cell_type": "code",
   "execution_count": 63,
   "metadata": {},
   "outputs": [
    {
     "data": {
      "image/png": "[encoded data removed]",
      "text/plain": [
       "<Figure size 1080x720 with 1 Axes>"
      ]
     },
     "metadata": {},
     "output_type": "display_data"
    }
   ],
   "source": [
    "plt.rcParams[\"figure.figsize\"] = (15,10)\n",
    "sns.barplot(x=pivot_price_area[\"area_madrid\"],y=pivot_price_area[\"rent_price\"], data=pivot_price_area, yerr=pivot_price_area[\"sem\"], palette=\"Reds_d\")\n",
    "plt.ylabel(\"Price Rent House In different areas of Madrid\", fontsize=16, labelpad=20)\n",
    "plt.xticks(rotation=90, fontsize=14)\n",
    "plt.yticks(rotation=90, fontsize=14)\n",
    "plt.tight_layout()\n",
    "# plt.savefig(\"area_rent_price.png\", dpi=400)\n",
    "plt.show()"
   ]
  },
  {
   "cell_type": "code",
   "execution_count": 64,
   "metadata": {},
   "outputs": [],
   "source": [
    "pivot_count_loc = pd.pivot_table(df, index=[\"specific_location\"], values=[\"rent_price\"], aggfunc=\"count\").\\\n",
    "sort_values(by=\"specific_location\").reset_index()"
   ]
  },
  {
   "cell_type": "code",
   "execution_count": 65,
   "metadata": {},
   "outputs": [],
   "source": [
    "pivot_count_loc.loc[pivot_count_loc[\"rent_price\"]==1] = np.nan"
   ]
  },
  {
   "cell_type": "code",
   "execution_count": 66,
   "metadata": {},
   "outputs": [],
   "source": [
    "pivot_count_loc.rename({\"rent_price\":\"count\"}, axis=1, inplace=True)"
   ]
  },
  {
   "cell_type": "code",
   "execution_count": 67,
   "metadata": {},
   "outputs": [],
   "source": [
    "pivot_price_loc = pd.pivot_table(df, index=[\"specific_location\"], values=[\"rent_price\"], aggfunc=\"mean\").\\\n",
    "sort_values(by=\"specific_location\").reset_index()"
   ]
  },
  {
   "cell_type": "code",
   "execution_count": 68,
   "metadata": {},
   "outputs": [],
   "source": [
    "pivot_price_loc[\"count\"] = pivot_count_loc[\"count\"]"
   ]
  },
  {
   "cell_type": "code",
   "execution_count": 69,
   "metadata": {},
   "outputs": [],
   "source": [
    "pivot_price_loc.dropna(how=\"any\", inplace=True)"
   ]
  },
  {
   "cell_type": "code",
   "execution_count": 70,
   "metadata": {},
   "outputs": [],
   "source": [
    "pivot_price_loc.reset_index().drop(\"index\", axis=1, inplace=True)"
   ]
  },
  {
   "cell_type": "code",
   "execution_count": 71,
   "metadata": {},
   "outputs": [
    {
     "data": {
      "text/plain": [
       "(131, 3)"
      ]
     },
     "execution_count": 71,
     "metadata": {},
     "output_type": "execute_result"
    }
   ],
   "source": [
    "pivot_price_loc.shape"
   ]
  },
  {
   "cell_type": "code",
   "execution_count": 72,
   "metadata": {},
   "outputs": [],
   "source": [
    "pivot_loc_sem =pd.pivot_table(df, index=[\"specific_location\"], values=[\"rent_price\"], aggfunc=\"sem\").\\\n",
    "sort_values(by=\"specific_location\").reset_index()"
   ]
  },
  {
   "cell_type": "code",
   "execution_count": 73,
   "metadata": {},
   "outputs": [],
   "source": [
    "pivot_loc_sem.rename({\"rent_price\":\"sem\"}, axis=1, inplace=True)"
   ]
  },
  {
   "cell_type": "code",
   "execution_count": 74,
   "metadata": {},
   "outputs": [],
   "source": [
    "sem = (list(pivot_loc_sem[\"sem\"])) # !"
   ]
  },
  {
   "cell_type": "code",
   "execution_count": 75,
   "metadata": {},
   "outputs": [],
   "source": [
    "pivot_price_loc.dropna(how=\"any\", inplace=True)"
   ]
  },
  {
   "cell_type": "code",
   "execution_count": 76,
   "metadata": {},
   "outputs": [],
   "source": [
    "pivot_price_loc.reset_index().drop(\"index\", axis=1, inplace=True)"
   ]
  },
  {
   "cell_type": "code",
   "execution_count": 77,
   "metadata": {},
   "outputs": [
    {
     "data": {
      "text/html": [
       "<div>\n",
       "<style scoped>\n",
       "    .dataframe tbody tr th:only-of-type {\n",
       "        vertical-align: middle;\n",
       "    }\n",
       "\n",
       "    .dataframe tbody tr th {\n",
       "        vertical-align: top;\n",
       "    }\n",
       "\n",
       "    .dataframe thead th {\n",
       "        text-align: right;\n",
       "    }\n",
       "</style>\n",
       "<table border=\"1\" class=\"dataframe\">\n",
       "  <thead>\n",
       "    <tr style=\"text-align: right;\">\n",
       "      <th></th>\n",
       "      <th>index</th>\n",
       "      <th>specific_location</th>\n",
       "      <th>rent_price</th>\n",
       "      <th>count</th>\n",
       "    </tr>\n",
       "  </thead>\n",
       "  <tbody>\n",
       "    <tr>\n",
       "      <th>0</th>\n",
       "      <td>0</td>\n",
       "      <td>Abrantes</td>\n",
       "      <td>855.714286</td>\n",
       "      <td>14.0</td>\n",
       "    </tr>\n",
       "    <tr>\n",
       "      <th>1</th>\n",
       "      <td>1</td>\n",
       "      <td>Acacias</td>\n",
       "      <td>1125.961538</td>\n",
       "      <td>52.0</td>\n",
       "    </tr>\n",
       "    <tr>\n",
       "      <th>2</th>\n",
       "      <td>2</td>\n",
       "      <td>Adelfas</td>\n",
       "      <td>1411.447368</td>\n",
       "      <td>38.0</td>\n",
       "    </tr>\n",
       "    <tr>\n",
       "      <th>3</th>\n",
       "      <td>3</td>\n",
       "      <td>Aeropuerto</td>\n",
       "      <td>2395.000000</td>\n",
       "      <td>5.0</td>\n",
       "    </tr>\n",
       "    <tr>\n",
       "      <th>4</th>\n",
       "      <td>4</td>\n",
       "      <td>Alameda de Osuna</td>\n",
       "      <td>1683.333333</td>\n",
       "      <td>6.0</td>\n",
       "    </tr>\n",
       "    <tr>\n",
       "      <th>...</th>\n",
       "      <td>...</td>\n",
       "      <td>...</td>\n",
       "      <td>...</td>\n",
       "      <td>...</td>\n",
       "    </tr>\n",
       "    <tr>\n",
       "      <th>126</th>\n",
       "      <td>129</td>\n",
       "      <td>Ventas</td>\n",
       "      <td>857.187500</td>\n",
       "      <td>32.0</td>\n",
       "    </tr>\n",
       "    <tr>\n",
       "      <th>127</th>\n",
       "      <td>130</td>\n",
       "      <td>Vinateros</td>\n",
       "      <td>942.222222</td>\n",
       "      <td>9.0</td>\n",
       "    </tr>\n",
       "    <tr>\n",
       "      <th>128</th>\n",
       "      <td>131</td>\n",
       "      <td>Virgen del Cortijo-Manoteras</td>\n",
       "      <td>1092.500000</td>\n",
       "      <td>10.0</td>\n",
       "    </tr>\n",
       "    <tr>\n",
       "      <th>129</th>\n",
       "      <td>132</td>\n",
       "      <td>Vista Alegre</td>\n",
       "      <td>778.260870</td>\n",
       "      <td>23.0</td>\n",
       "    </tr>\n",
       "    <tr>\n",
       "      <th>130</th>\n",
       "      <td>133</td>\n",
       "      <td>Zofío</td>\n",
       "      <td>931.428571</td>\n",
       "      <td>7.0</td>\n",
       "    </tr>\n",
       "  </tbody>\n",
       "</table>\n",
       "<p>131 rows × 4 columns</p>\n",
       "</div>"
      ],
      "text/plain": [
       "     index              specific_location   rent_price  count\n",
       "0        0                      Abrantes    855.714286   14.0\n",
       "1        1                       Acacias   1125.961538   52.0\n",
       "2        2                       Adelfas   1411.447368   38.0\n",
       "3        3                    Aeropuerto   2395.000000    5.0\n",
       "4        4              Alameda de Osuna   1683.333333    6.0\n",
       "..     ...                            ...          ...    ...\n",
       "126    129                        Ventas    857.187500   32.0\n",
       "127    130                     Vinateros    942.222222    9.0\n",
       "128    131  Virgen del Cortijo-Manoteras   1092.500000   10.0\n",
       "129    132                  Vista Alegre    778.260870   23.0\n",
       "130    133                         Zofío    931.428571    7.0\n",
       "\n",
       "[131 rows x 4 columns]"
      ]
     },
     "execution_count": 77,
     "metadata": {},
     "output_type": "execute_result"
    }
   ],
   "source": [
    "pivot_price_loc.reset_index()"
   ]
  },
  {
   "cell_type": "code",
   "execution_count": 78,
   "metadata": {},
   "outputs": [],
   "source": [
    "pivot_price_loc[\"sem\"] = sem"
   ]
  },
  {
   "cell_type": "code",
   "execution_count": 79,
   "metadata": {},
   "outputs": [],
   "source": [
    "# pivot_loc_sem.rename({\"specific_location\":\"loc\"}, axis=1, inplace=True)"
   ]
  },
  {
   "cell_type": "code",
   "execution_count": 80,
   "metadata": {},
   "outputs": [],
   "source": [
    "pivot_price_loc.sort_values(\"rent_price\", ascending=False, inplace=True)"
   ]
  },
  {
   "cell_type": "code",
   "execution_count": 81,
   "metadata": {},
   "outputs": [
    {
     "data": {
      "image/png": "[encoded data removed]",
      "text/plain": [
       "<Figure size 1080x720 with 1 Axes>"
      ]
     },
     "metadata": {},
     "output_type": "display_data"
    }
   ],
   "source": [
    "plt.rcParams[\"figure.figsize\"] = (15,10)\n",
    "sns.barplot(x=pivot_price_loc[\"specific_location\"],y=pivot_price_loc[\"rent_price\"], data=pivot_price_loc, yerr=pivot_price_loc[\"sem\"],  palette=\"Blues_d\")\n",
    "plt.ylabel(\"Price Rent House In different areas of Madrid\", fontsize=16, labelpad=20)\n",
    "plt.xticks(rotation=90, fontsize=8)\n",
    "plt.yticks(rotation=90, fontsize=14)\n",
    "plt.tight_layout()\n",
    "# plt.savefig(\"location_rent_price.png\", dpi=400)\n",
    "plt.show()"
   ]
  },
  {
   "cell_type": "markdown",
   "metadata": {},
   "source": [
    "# 3. Data Preprocessing"
   ]
  },
  {
   "cell_type": "raw",
   "metadata": {},
   "source": [
    "# 1. choose relevant columns \n",
    "# 2. get dummy data (data from categorical columns converted to numeric)\n",
    "# 3. ReScale, Standarize or Normalize data"
   ]
  },
  {
   "cell_type": "code",
   "execution_count": 82,
   "metadata": {},
   "outputs": [],
   "source": [
    "# 1. Select attributes\n",
    "df_model = df_boxcox.loc[:,[\"rent_price\", \"sq_mt\", \"bedroom_n\", \"bathroom_n\", \"area_madrid\"]]"
   ]
  },
  {
   "cell_type": "code",
   "execution_count": 83,
   "metadata": {},
   "outputs": [],
   "source": [
    "# 2. Get dummy data\n",
    "df_model = pd.get_dummies(df_model) # here we could use onehotencoder. See the difference below"
   ]
  },
  {
   "cell_type": "markdown",
   "metadata": {},
   "source": [
    "OneHotEncoder cannot process string values directly. If your nominal features are strings, then you need to first map them into **integers** (for this we can use the pandas factorize() method).\n",
    "\n",
    "pandas.get_dummies is kind of the opposite. By default, it only converts **string** columns into one-hot representation, unless columns are specified."
   ]
  },
  {
   "cell_type": "code",
   "execution_count": 84,
   "metadata": {},
   "outputs": [],
   "source": [
    "df_model.columns = df_model.columns.str.replace(\"area_madrid_\", \"\")"
   ]
  },
  {
   "cell_type": "code",
   "execution_count": 85,
   "metadata": {},
   "outputs": [],
   "source": [
    "# 3.1) \n",
    "    # Re-scaling data: When your data is comprised of attributes with varying scales, \n",
    "    # many machine learning algorithmscan benefit from rescaling the attributes to all have the same scale.\n",
    "from sklearn.preprocessing import MinMaxScaler\n",
    "scaler = MinMaxScaler(feature_range=(0, 1))\n",
    "rescaledX = scaler.fit_transform(X) # use MinMaxScaler to revert the re-scaled data"
   ]
  },
  {
   "cell_type": "code",
   "execution_count": 86,
   "metadata": {},
   "outputs": [
    {
     "data": {
      "text/plain": [
       "array([[0.04061212, 0.0952381 , 0.        , 0.00666569, 0.0974359 ],\n",
       "       [0.02648617, 0.        , 0.        , 0.01083896, 0.32307692],\n",
       "       [0.07180695, 0.0952381 , 0.125     , 0.01013197, 0.21025641],\n",
       "       ...,\n",
       "       [0.10535609, 0.14285714, 0.125     , 0.00969158, 0.15384615],\n",
       "       [0.04178929, 0.04761905, 0.125     , 0.02080304, 0.32307692],\n",
       "       [0.08181283, 0.04761905, 0.125     , 0.01157656, 0.32307692]])"
      ]
     },
     "execution_count": 86,
     "metadata": {},
     "output_type": "execute_result"
    }
   ],
   "source": [
    "rescaledX # "
   ]
  },
  {
   "cell_type": "code",
   "execution_count": 87,
   "metadata": {},
   "outputs": [],
   "source": [
    "# 3.2) \n",
    "    # Standarized data: It is most suitable for techniques that assume a Gaussian\n",
    "    # distribution in the input variables\n",
    "from sklearn.preprocessing import StandardScaler\n",
    "scaler = StandardScaler().fit(X)\n",
    "standarizedX = scaler.transform(X)"
   ]
  },
  {
   "cell_type": "code",
   "execution_count": 88,
   "metadata": {},
   "outputs": [
    {
     "data": {
      "text/plain": [
       "array([[-0.29813846,  0.72747628, -0.6127942 , -0.1780724 , -1.51731254],\n",
       "       [-0.59966482, -0.97775054, -0.6127942 , -0.09003553,  0.66777703],\n",
       "       [ 0.36773226,  0.72747628,  0.47866328, -0.1049497 , -0.42476776],\n",
       "       ...,\n",
       "       [ 1.08385737,  1.58008969,  0.47866328, -0.11423999, -0.97104015],\n",
       "       [-0.27301126, -0.12513713,  0.47866328,  0.12016103,  0.66777703],\n",
       "       [ 0.58131343, -0.12513713,  0.47866328, -0.07447553,  0.66777703]])"
      ]
     },
     "execution_count": 88,
     "metadata": {},
     "output_type": "execute_result"
    }
   ],
   "source": [
    "standarizedX"
   ]
  },
  {
   "cell_type": "code",
   "execution_count": 89,
   "metadata": {},
   "outputs": [],
   "source": [
    "# 3.3) Normalize data: This pre-processing method\n",
    "#      can be useful for sparse datasets (lots of zeros) with attributes of varying scales when using\n",
    "#      algorithms that weight input values such as neural networks and algorithms that use distance\n",
    "#      measures such as k-Nearest Neighbors.\n",
    "\n",
    "from sklearn.preprocessing import Normalizer\n",
    "scaler = Normalizer().fit(X)\n",
    "normalizedX = scaler.transform(X)"
   ]
  },
  {
   "cell_type": "code",
   "execution_count": 90,
   "metadata": {},
   "outputs": [
    {
     "data": {
      "text/plain": [
       "array([[0.987493  , 0.04232113, 0.01410704, 0.15114689, 0.00470235],\n",
       "       [0.93480152, 0.02032177, 0.02032177, 0.35342212, 0.02032177],\n",
       "       [0.99094229, 0.02416932, 0.01611288, 0.13099905, 0.00537096],\n",
       "       ...,\n",
       "       [0.99597771, 0.02213284, 0.01106642, 0.08607215, 0.0027666 ],\n",
       "       [0.90681891, 0.02518941, 0.02518941, 0.41982357, 0.01259471],\n",
       "       [0.99109244, 0.01415846, 0.01415846, 0.13147145, 0.00707923]])"
      ]
     },
     "execution_count": 90,
     "metadata": {},
     "output_type": "execute_result"
    }
   ],
   "source": [
    "normalizedX "
   ]
  },
  {
   "cell_type": "markdown",
   "metadata": {},
   "source": [
    "The benefits of the above preprocessing techiques were not apparent in our work case probably because we previosly transformed our data"
   ]
  },
  {
   "cell_type": "markdown",
   "metadata": {},
   "source": [
    "# 4. Model selection and tuning"
   ]
  },
  {
   "cell_type": "markdown",
   "metadata": {},
   "source": [
    "**Main Aspects to consider before building our model**\n",
    "1) **Linearity**: assumes that the relationship between predictors and target variable is linear\n",
    "\n",
    "2) **No noise**: eg. that there are no outliers in the data\n",
    "\n",
    "3) **No collinearity**: if you have highly correlated predictors, it’s most likely your model will overfit\n",
    "\n",
    "4) **Normal distribution**: more reliable predictions are made if the predictors and the target variable are normally distributed. Read [Here](https://towardsdatascience.com/top-3-methods-for-handling-skewed-data-1334e0debf45)\n",
    "\n",
    "5) **Scale**: it’s a distance-based algorithm, so preditors should be scaled — like with standard scaler"
   ]
  },
  {
   "cell_type": "raw",
   "metadata": {},
   "source": [
    "# 1. train test split(train set, validation and a test set, )\n",
    "# 2. Exploring model performance\n",
    "# 3. tune this models using GridsearchCV\n",
    "# 4. test ensembles"
   ]
  },
  {
   "cell_type": "code",
   "execution_count": 91,
   "metadata": {},
   "outputs": [],
   "source": [
    "from sklearn.model_selection import train_test_split\n",
    "X = df_model.drop(\"rent_price\", axis=1)\n",
    "y = df_model[\"rent_price\"].values\n",
    "X_train, X_test, y_train, y_test = train_test_split(X, y, test_size=0.2, random_state=42) "
   ]
  },
  {
   "cell_type": "markdown",
   "metadata": {},
   "source": [
    "We will stratify the data based on the sq_m2 since is the attribute that correlates best with the house rental price"
   ]
  },
  {
   "cell_type": "code",
   "execution_count": 92,
   "metadata": {},
   "outputs": [
    {
     "data": {
      "image/png": "[encoded data removed]",
      "text/plain": [
       "<Figure size 720x504 with 1 Axes>"
      ]
     },
     "metadata": {},
     "output_type": "display_data"
    }
   ],
   "source": [
    "plt.rcParams[\"figure.figsize\"] = (10,7)\n",
    "plt.hist(df_model[\"sq_mt\"],color=\"b\", bins=30)\n",
    "plt.show()"
   ]
  },
  {
   "cell_type": "code",
   "execution_count": 93,
   "metadata": {},
   "outputs": [],
   "source": [
    "def strater (col_item):\n",
    "    if col_item <= 3.5:\n",
    "        return 1\n",
    "    elif col_item > 3.5 and col_item <= 4:\n",
    "        return 2\n",
    "    elif col_item > 4 and col_item <= 4.5:\n",
    "        return 3\n",
    "    elif col_item > 4.5 and col_item <= 5.5:\n",
    "        return 4\n",
    "    else:\n",
    "        return 5"
   ]
  },
  {
   "cell_type": "code",
   "execution_count": 94,
   "metadata": {},
   "outputs": [],
   "source": [
    "df_model[\"strat\"] = df_model[\"sq_mt\"].apply(strater)"
   ]
  },
  {
   "cell_type": "code",
   "execution_count": 95,
   "metadata": {},
   "outputs": [],
   "source": [
    "test_set = X_test"
   ]
  },
  {
   "cell_type": "code",
   "execution_count": 96,
   "metadata": {},
   "outputs": [
    {
     "name": "stderr",
     "output_type": "stream",
     "text": [
      "C:\\Users\\enriq\\Anaconda3\\lib\\site-packages\\ipykernel_launcher.py:1: SettingWithCopyWarning: \n",
      "A value is trying to be set on a copy of a slice from a DataFrame.\n",
      "Try using .loc[row_indexer,col_indexer] = value instead\n",
      "\n",
      "See the caveats in the documentation: https://pandas.pydata.org/pandas-docs/stable/user_guide/indexing.html#returning-a-view-versus-a-copy\n",
      "  \"\"\"Entry point for launching an IPython kernel.\n"
     ]
    }
   ],
   "source": [
    "test_set[\"strat\"] = X_test[\"sq_mt\"].apply(strater)"
   ]
  },
  {
   "cell_type": "code",
   "execution_count": 97,
   "metadata": {},
   "outputs": [
    {
     "data": {
      "text/plain": [
       "<matplotlib.axes._subplots.AxesSubplot at 0x271e9069b08>"
      ]
     },
     "execution_count": 97,
     "metadata": {},
     "output_type": "execute_result"
    },
    {
     "data": {
      "image/png": "[encoded data removed]",
      "text/plain": [
       "<Figure size 720x504 with 1 Axes>"
      ]
     },
     "metadata": {},
     "output_type": "display_data"
    }
   ],
   "source": [
    "df_model[\"strat\"].hist()"
   ]
  },
  {
   "cell_type": "code",
   "execution_count": 98,
   "metadata": {},
   "outputs": [],
   "source": [
    "from sklearn.model_selection import StratifiedShuffleSplit"
   ]
  },
  {
   "cell_type": "code",
   "execution_count": 99,
   "metadata": {},
   "outputs": [],
   "source": [
    "split = StratifiedShuffleSplit(n_splits = 1, test_size=0.2, random_state=10)"
   ]
  },
  {
   "cell_type": "code",
   "execution_count": 100,
   "metadata": {},
   "outputs": [],
   "source": [
    "for train_index, test_index in split.split(df_model, df_model[\"strat\"]):\n",
    "    strat_train_set = df_model.loc[train_index]\n",
    "    strat_test_set = df_model.loc[test_index]"
   ]
  },
  {
   "cell_type": "code",
   "execution_count": 101,
   "metadata": {},
   "outputs": [],
   "source": [
    "def proportions(data):\n",
    "    return data[\"strat\"].value_counts()/len(data)"
   ]
  },
  {
   "cell_type": "code",
   "execution_count": 102,
   "metadata": {},
   "outputs": [],
   "source": [
    "comparing = pd.DataFrame({\"Overall\": proportions(df_model),\n",
    "                         \"Stratified\": proportions(strat_test_set),\n",
    "                         \"Random\": proportions(test_set)}).sort_index()"
   ]
  },
  {
   "cell_type": "code",
   "execution_count": 103,
   "metadata": {},
   "outputs": [],
   "source": [
    "comparing = comparing *100 "
   ]
  },
  {
   "cell_type": "code",
   "execution_count": 104,
   "metadata": {},
   "outputs": [
    {
     "data": {
      "text/html": [
       "<div>\n",
       "<style scoped>\n",
       "    .dataframe tbody tr th:only-of-type {\n",
       "        vertical-align: middle;\n",
       "    }\n",
       "\n",
       "    .dataframe tbody tr th {\n",
       "        vertical-align: top;\n",
       "    }\n",
       "\n",
       "    .dataframe thead th {\n",
       "        text-align: right;\n",
       "    }\n",
       "</style>\n",
       "<table border=\"1\" class=\"dataframe\">\n",
       "  <thead>\n",
       "    <tr style=\"text-align: right;\">\n",
       "      <th></th>\n",
       "      <th>Overall</th>\n",
       "      <th>Stratified</th>\n",
       "      <th>Random</th>\n",
       "    </tr>\n",
       "  </thead>\n",
       "  <tbody>\n",
       "    <tr>\n",
       "      <th>1</th>\n",
       "      <td>5.046073</td>\n",
       "      <td>5.043860</td>\n",
       "      <td>5.921053</td>\n",
       "    </tr>\n",
       "    <tr>\n",
       "      <th>2</th>\n",
       "      <td>20.447565</td>\n",
       "      <td>20.394737</td>\n",
       "      <td>19.407895</td>\n",
       "    </tr>\n",
       "    <tr>\n",
       "      <th>3</th>\n",
       "      <td>39.973673</td>\n",
       "      <td>40.021930</td>\n",
       "      <td>40.021930</td>\n",
       "    </tr>\n",
       "    <tr>\n",
       "      <th>4</th>\n",
       "      <td>30.759105</td>\n",
       "      <td>30.811404</td>\n",
       "      <td>31.359649</td>\n",
       "    </tr>\n",
       "    <tr>\n",
       "      <th>5</th>\n",
       "      <td>3.773585</td>\n",
       "      <td>3.728070</td>\n",
       "      <td>3.289474</td>\n",
       "    </tr>\n",
       "  </tbody>\n",
       "</table>\n",
       "</div>"
      ],
      "text/plain": [
       "     Overall  Stratified     Random\n",
       "1   5.046073    5.043860   5.921053\n",
       "2  20.447565   20.394737  19.407895\n",
       "3  39.973673   40.021930  40.021930\n",
       "4  30.759105   30.811404  31.359649\n",
       "5   3.773585    3.728070   3.289474"
      ]
     },
     "execution_count": 104,
     "metadata": {},
     "output_type": "execute_result"
    }
   ],
   "source": [
    "comparing \n",
    "# We can observe how the proportions in the stratified set are closer \n",
    "# to those in the whole set compared to the ramdomly generated set"
   ]
  },
  {
   "cell_type": "code",
   "execution_count": 105,
   "metadata": {},
   "outputs": [],
   "source": [
    "strat_train_set.drop(\"strat\", axis=1, inplace=True)\n",
    "strat_test_set.drop(\"strat\", axis=1, inplace=True)"
   ]
  },
  {
   "cell_type": "code",
   "execution_count": 106,
   "metadata": {},
   "outputs": [],
   "source": [
    "X_train = strat_train_set.drop(\"rent_price\", axis=1)\n",
    "y_train = strat_train_set[\"rent_price\"].values"
   ]
  },
  {
   "cell_type": "code",
   "execution_count": 107,
   "metadata": {},
   "outputs": [],
   "source": [
    "X_test = strat_test_set.drop(\"rent_price\", axis=1)\n",
    "y_test = strat_test_set[\"rent_price\"].values"
   ]
  },
  {
   "cell_type": "code",
   "execution_count": 108,
   "metadata": {},
   "outputs": [],
   "source": [
    "df_model.drop(\"strat\", axis=1, inplace=True)"
   ]
  },
  {
   "cell_type": "code",
   "execution_count": 109,
   "metadata": {},
   "outputs": [],
   "source": [
    "X = df_model.drop(\"rent_price\", axis=1)"
   ]
  },
  {
   "cell_type": "code",
   "execution_count": 110,
   "metadata": {},
   "outputs": [],
   "source": [
    "from sklearn.linear_model import LinearRegression\n",
    "from sklearn.linear_model import Lasso\n",
    "from sklearn.linear_model import ElasticNet\n",
    "from sklearn.tree import DecisionTreeRegressor\n",
    "from sklearn.ensemble import RandomForestRegressor\n",
    "from sklearn.neighbors import KNeighborsRegressor\n",
    "from sklearn.naive_bayes import GaussianNB\n",
    "from sklearn.svm import SVR\n",
    "\n",
    "from sklearn.ensemble import RandomForestRegressor\n",
    "from sklearn.ensemble import GradientBoostingRegressor\n",
    "from sklearn.ensemble import ExtraTreesRegressor\n",
    "from sklearn.ensemble import AdaBoostRegressor\n",
    "\n",
    "from sklearn.model_selection import KFold\n",
    "from sklearn.model_selection import StratifiedKFold\n",
    "\n",
    "from sklearn.model_selection import cross_val_score\n",
    "\n",
    "from sklearn.model_selection import GridSearchCV\n",
    "from sklearn.model_selection import ShuffleSplit \n",
    "\n",
    "import warnings\n",
    "warnings.filterwarnings(\"ignore\")"
   ]
  },
  {
   "cell_type": "code",
   "execution_count": 111,
   "metadata": {},
   "outputs": [
    {
     "data": {
      "text/plain": [
       "array([6.90775528, 6.80239476, 7.34601021, ..., 6.99850964, 7.04751722,\n",
       "       7.09007684])"
      ]
     },
     "execution_count": 111,
     "metadata": {},
     "output_type": "execute_result"
    }
   ],
   "source": [
    "y_train"
   ]
  },
  {
   "cell_type": "code",
   "execution_count": 112,
   "metadata": {},
   "outputs": [
    {
     "name": "stdout",
     "output_type": "stream",
     "text": [
      "LR: -0.194186 (0.011632)\n",
      "Lasso: -0.408581 (0.006166)\n",
      "EN: -0.408581 (0.006166)\n",
      "CART: -0.192540 (0.008748)\n",
      "KNN: -0.169458 (0.007796)\n",
      "SVR: -0.155901 (0.010447)\n",
      "ensemble RFR: -0.168624 (0.008688)\n",
      "ensemble GBR: -0.159936 (0.009489)\n",
      "ensemble ETR: -0.176759 (0.012103)\n",
      "ensemble ABR: -0.215569 (0.016554)\n"
     ]
    }
   ],
   "source": [
    "# 3. Exploring model performance\n",
    "models = []\n",
    "models.append(('LR', LinearRegression()))\n",
    "models.append(('Lasso', Lasso())) \n",
    "models.append(('EN', ElasticNet()))\n",
    "models.append(('CART', DecisionTreeRegressor()))\n",
    "models.append(('KNN', KNeighborsRegressor()))\n",
    "models.append(('SVR', SVR()))\n",
    "# add also 4 ensemble models\n",
    "models.append(('ensemble RFR', RandomForestRegressor()))\n",
    "models.append(('ensemble GBR', GradientBoostingRegressor())) \n",
    "models.append(('ensemble ETR', ExtraTreesRegressor()))\n",
    "models.append(('ensemble ABR', AdaBoostRegressor()))\n",
    "\n",
    "results_model = []\n",
    "names_model = []\n",
    "for name, model in models:\n",
    "    KF = KFold(n_splits=10, random_state=10)\n",
    "    cv_results = cross_val_score(model, X_train, y_train, cv=KF, scoring='neg_mean_absolute_error')\n",
    "    results_model.append(cv_results)\n",
    "    names_model.append(name)\n",
    "    msg = \"%s: %f (%f)\" % (name, cv_results.mean(), cv_results.std())\n",
    "    print(msg)\n"
   ]
  },
  {
   "cell_type": "code",
   "execution_count": 113,
   "metadata": {},
   "outputs": [
    {
     "data": {
      "image/png": "[encoded data removed]",
      "text/plain": [
       "<Figure size 720x504 with 1 Axes>"
      ]
     },
     "metadata": {},
     "output_type": "display_data"
    }
   ],
   "source": [
    "# Compare Algorithms\n",
    "fig = plt.figure()\n",
    "fig.suptitle('Algorithm Comparison')\n",
    "ax = fig.add_subplot(111)\n",
    "plt.boxplot(results_model)\n",
    "ax.set_xticklabels(names_model, rotation=30)\n",
    "plt.show()"
   ]
  },
  {
   "cell_type": "code",
   "execution_count": 114,
   "metadata": {},
   "outputs": [],
   "source": [
    "# SVR seems to be performing best"
   ]
  },
  {
   "cell_type": "code",
   "execution_count": 115,
   "metadata": {},
   "outputs": [
    {
     "name": "stdout",
     "output_type": "stream",
     "text": [
      "Best: -0.154658 using {'C': 8.5, 'kernel': 'rbf'}\n",
      "-0.162525 (0.002313) with: {'C': 0.1, 'kernel': 'rbf'}\n",
      "-0.155739 (0.002885) with: {'C': 1.5, 'kernel': 'rbf'}\n",
      "-0.154842 (0.003000) with: {'C': 5.5, 'kernel': 'rbf'}\n",
      "-0.154748 (0.003003) with: {'C': 6.5, 'kernel': 'rbf'}\n",
      "-0.154673 (0.002980) with: {'C': 7.5, 'kernel': 'rbf'}\n",
      "-0.154658 (0.002971) with: {'C': 8.5, 'kernel': 'rbf'}\n"
     ]
    }
   ],
   "source": [
    "kernel = [\"rbf\"] # [\"linear\", \"poly\", \"rbf\", \"sigmoid\"] \n",
    "C = [0.1, 1.5, 5.5, 6.5, 7.5, 8.5]\n",
    "\n",
    "param_grid = dict(kernel=kernel, C=C)\n",
    "\n",
    "\n",
    "model = SVR()\n",
    "KF = KFold(n_splits=5, random_state=10) \n",
    "grid = GridSearchCV(estimator=model, param_grid=param_grid, scoring=\"neg_mean_absolute_error\", cv=KF)\n",
    "grid_result = grid.fit(X_train, y_train)\n",
    "print(\"Best: %f using %s\" % (grid_result.best_score_, grid_result.best_params_))\n",
    "means = grid_result.cv_results_['mean_test_score']\n",
    "stds = grid_result.cv_results_['std_test_score']\n",
    "params = grid_result.cv_results_['params']\n",
    "for mean, stdev, param in zip(means, stds, params):\n",
    "    print(\"%f (%f) with: %r\" % (mean, stdev, param))\n",
    "    # Best -0.154658 using {'C': 8.5, 'kernel': 'rbf'}"
   ]
  },
  {
   "cell_type": "code",
   "execution_count": 116,
   "metadata": {},
   "outputs": [
    {
     "data": {
      "text/plain": [
       "SVR(C=8.5, cache_size=200, coef0=0.0, degree=3, epsilon=0.1, gamma='scale',\n",
       "    kernel='rbf', max_iter=-1, shrinking=True, tol=0.001, verbose=False)"
      ]
     },
     "execution_count": 116,
     "metadata": {},
     "output_type": "execute_result"
    }
   ],
   "source": [
    "# 5 test\n",
    "SVR = SVR(kernel=\"rbf\", C=8.5)\n",
    "SVR.fit(X_train, y_train)"
   ]
  },
  {
   "cell_type": "markdown",
   "metadata": {},
   "source": [
    "Feature importance"
   ]
  },
  {
   "cell_type": "code",
   "execution_count": 117,
   "metadata": {},
   "outputs": [
    {
     "data": {
      "text/plain": [
       "GradientBoostingRegressor(alpha=0.9, ccp_alpha=0.0, criterion='friedman_mse',\n",
       "                          init=None, learning_rate=0.1, loss='ls', max_depth=3,\n",
       "                          max_features=None, max_leaf_nodes=None,\n",
       "                          min_impurity_decrease=0.0, min_impurity_split=None,\n",
       "                          min_samples_leaf=1, min_samples_split=2,\n",
       "                          min_weight_fraction_leaf=0.0, n_estimators=100,\n",
       "                          n_iter_no_change=None, presort='deprecated',\n",
       "                          random_state=None, subsample=1.0, tol=0.0001,\n",
       "                          validation_fraction=0.1, verbose=0, warm_start=False)"
      ]
     },
     "execution_count": 117,
     "metadata": {},
     "output_type": "execute_result"
    }
   ],
   "source": [
    "# The second best performing model was GBR and we can actually check the feature importance with this model\n",
    "\n",
    "GBR = GradientBoostingRegressor()\n",
    "GBR.fit(X_train, y_train)"
   ]
  },
  {
   "cell_type": "code",
   "execution_count": 118,
   "metadata": {},
   "outputs": [
    {
     "data": {
      "text/html": [
       "<div>\n",
       "<style scoped>\n",
       "    .dataframe tbody tr th:only-of-type {\n",
       "        vertical-align: middle;\n",
       "    }\n",
       "\n",
       "    .dataframe tbody tr th {\n",
       "        vertical-align: top;\n",
       "    }\n",
       "\n",
       "    .dataframe thead th {\n",
       "        text-align: right;\n",
       "    }\n",
       "</style>\n",
       "<table border=\"1\" class=\"dataframe\">\n",
       "  <thead>\n",
       "    <tr style=\"text-align: right;\">\n",
       "      <th></th>\n",
       "      <th>feature importance</th>\n",
       "    </tr>\n",
       "  </thead>\n",
       "  <tbody>\n",
       "    <tr>\n",
       "      <th>sq_mt</th>\n",
       "      <td>0.844457</td>\n",
       "    </tr>\n",
       "    <tr>\n",
       "      <th>bathroom_n</th>\n",
       "      <td>0.066170</td>\n",
       "    </tr>\n",
       "    <tr>\n",
       "      <th>Salamanca</th>\n",
       "      <td>0.028737</td>\n",
       "    </tr>\n",
       "    <tr>\n",
       "      <th>Chamberí</th>\n",
       "      <td>0.010477</td>\n",
       "    </tr>\n",
       "    <tr>\n",
       "      <th>Centro</th>\n",
       "      <td>0.007732</td>\n",
       "    </tr>\n",
       "    <tr>\n",
       "      <th>bedroom_n</th>\n",
       "      <td>0.004548</td>\n",
       "    </tr>\n",
       "    <tr>\n",
       "      <th>Chamartín</th>\n",
       "      <td>0.004506</td>\n",
       "    </tr>\n",
       "    <tr>\n",
       "      <th>Puente de Vallecas</th>\n",
       "      <td>0.004222</td>\n",
       "    </tr>\n",
       "    <tr>\n",
       "      <th>San Blas</th>\n",
       "      <td>0.004179</td>\n",
       "    </tr>\n",
       "    <tr>\n",
       "      <th>Carabanchel</th>\n",
       "      <td>0.004018</td>\n",
       "    </tr>\n",
       "    <tr>\n",
       "      <th>Latina</th>\n",
       "      <td>0.003534</td>\n",
       "    </tr>\n",
       "    <tr>\n",
       "      <th>Usera</th>\n",
       "      <td>0.002732</td>\n",
       "    </tr>\n",
       "    <tr>\n",
       "      <th>Barajas</th>\n",
       "      <td>0.002340</td>\n",
       "    </tr>\n",
       "    <tr>\n",
       "      <th>Ciudad Lineal</th>\n",
       "      <td>0.002317</td>\n",
       "    </tr>\n",
       "    <tr>\n",
       "      <th>Retiro</th>\n",
       "      <td>0.002035</td>\n",
       "    </tr>\n",
       "    <tr>\n",
       "      <th>Villaverde</th>\n",
       "      <td>0.002013</td>\n",
       "    </tr>\n",
       "    <tr>\n",
       "      <th>Villa de Vallecas</th>\n",
       "      <td>0.001493</td>\n",
       "    </tr>\n",
       "    <tr>\n",
       "      <th>Vicálvaro</th>\n",
       "      <td>0.001351</td>\n",
       "    </tr>\n",
       "    <tr>\n",
       "      <th>Moratalaz</th>\n",
       "      <td>0.001243</td>\n",
       "    </tr>\n",
       "    <tr>\n",
       "      <th>Fuencarral-El Pardo</th>\n",
       "      <td>0.001026</td>\n",
       "    </tr>\n",
       "    <tr>\n",
       "      <th>Hortaleza</th>\n",
       "      <td>0.000436</td>\n",
       "    </tr>\n",
       "    <tr>\n",
       "      <th>Arganzuela</th>\n",
       "      <td>0.000285</td>\n",
       "    </tr>\n",
       "    <tr>\n",
       "      <th>Moncloa-Aravaca</th>\n",
       "      <td>0.000147</td>\n",
       "    </tr>\n",
       "    <tr>\n",
       "      <th>Tetuán</th>\n",
       "      <td>0.000000</td>\n",
       "    </tr>\n",
       "  </tbody>\n",
       "</table>\n",
       "</div>"
      ],
      "text/plain": [
       "                     feature importance\n",
       "sq_mt                          0.844457\n",
       "bathroom_n                     0.066170\n",
       "Salamanca                      0.028737\n",
       "Chamberí                       0.010477\n",
       "Centro                         0.007732\n",
       "bedroom_n                      0.004548\n",
       "Chamartín                      0.004506\n",
       "Puente de Vallecas             0.004222\n",
       "San Blas                       0.004179\n",
       "Carabanchel                    0.004018\n",
       "Latina                         0.003534\n",
       "Usera                          0.002732\n",
       "Barajas                        0.002340\n",
       "Ciudad Lineal                  0.002317\n",
       "Retiro                         0.002035\n",
       "Villaverde                     0.002013\n",
       "Villa de Vallecas              0.001493\n",
       "Vicálvaro                      0.001351\n",
       "Moratalaz                      0.001243\n",
       "Fuencarral-El Pardo            0.001026\n",
       "Hortaleza                      0.000436\n",
       "Arganzuela                     0.000285\n",
       "Moncloa-Aravaca                0.000147\n",
       "Tetuán                         0.000000"
      ]
     },
     "execution_count": 118,
     "metadata": {},
     "output_type": "execute_result"
    }
   ],
   "source": [
    "pd.DataFrame(GBR.feature_importances_, index=X_train.columns, columns=[\"feature importance\"]).sort_values(by=\"feature importance\",ascending=False)"
   ]
  },
  {
   "cell_type": "code",
   "execution_count": 119,
   "metadata": {},
   "outputs": [],
   "source": [
    "SVR_pred = SVR.predict(X_test)\n",
    "SVR_pred= SVR_pred.reshape(-1,1)"
   ]
  },
  {
   "cell_type": "code",
   "execution_count": 120,
   "metadata": {},
   "outputs": [
    {
     "data": {
      "image/png": "[encoded data removed]",
      "text/plain": [
       "<Figure size 1080x576 with 1 Axes>"
      ]
     },
     "metadata": {},
     "output_type": "display_data"
    }
   ],
   "source": [
    "plt.figure(figsize=(15,8))\n",
    "plt.scatter(y_test,SVR_pred,c='darkgreen')\n",
    "plt.title(\"Support Vector Regression\")\n",
    "plt.xlabel('Y Test')\n",
    "plt.ylabel('Predicted Y')\n",
    "plt.savefig(\"SVR.png\", dpi=400)\n",
    "plt.show()"
   ]
  },
  {
   "cell_type": "code",
   "execution_count": 121,
   "metadata": {},
   "outputs": [],
   "source": [
    "predictions_test = SVR.predict((X_test))"
   ]
  },
  {
   "cell_type": "code",
   "execution_count": 122,
   "metadata": {},
   "outputs": [
    {
     "data": {
      "text/plain": [
       "0.14823807619908594"
      ]
     },
     "execution_count": 122,
     "metadata": {},
     "output_type": "execute_result"
    }
   ],
   "source": [
    "from sklearn.metrics import mean_absolute_error\n",
    "mean_absolute_error(y_test, predictions_test)"
   ]
  },
  {
   "cell_type": "code",
   "execution_count": 123,
   "metadata": {},
   "outputs": [
    {
     "data": {
      "text/plain": [
       "0.8430354063591691"
      ]
     },
     "execution_count": 123,
     "metadata": {},
     "output_type": "execute_result"
    }
   ],
   "source": [
    "SVR.score(X_test,y_test)"
   ]
  },
  {
   "cell_type": "code",
   "execution_count": 124,
   "metadata": {},
   "outputs": [
    {
     "data": {
      "text/plain": [
       "0.8162728374926113"
      ]
     },
     "execution_count": 124,
     "metadata": {},
     "output_type": "execute_result"
    }
   ],
   "source": [
    "SVR.score(X_train,y_train)"
   ]
  },
  {
   "cell_type": "markdown",
   "metadata": {},
   "source": [
    "we actually got similar or even better results when using our test data compared to the train data which means that our model is not overfitting"
   ]
  },
  {
   "cell_type": "code",
   "execution_count": 170,
   "metadata": {},
   "outputs": [],
   "source": [
    "from scipy.special import boxcox, inv_boxcox\n",
    "\n",
    "def predict_price(area, sq_mt, bedrooms, bathrooms):\n",
    "    loc_index = np.where(X.columns==area)[0][0] # X is an np array so we use where method to loc the index\n",
    "    \n",
    "    x= np.zeros(len(X.columns))\n",
    "    x[0] = boxcox(sq_mt,0)\n",
    "    x[1] = boxcox(bedrooms,0)\n",
    "    x[2] = boxcox(bathrooms,0)\n",
    "    if loc_index >= 0:\n",
    "        x[loc_index] = 1\n",
    "    print(x)\n",
    "        \n",
    "    return \" \".join((str(round(inv_boxcox(SVR.predict([x])[0],0))), \"euros\"))\n"
   ]
  },
  {
   "cell_type": "code",
   "execution_count": 126,
   "metadata": {},
   "outputs": [
    {
     "data": {
      "text/html": [
       "<div>\n",
       "<style scoped>\n",
       "    .dataframe tbody tr th:only-of-type {\n",
       "        vertical-align: middle;\n",
       "    }\n",
       "\n",
       "    .dataframe tbody tr th {\n",
       "        vertical-align: top;\n",
       "    }\n",
       "\n",
       "    .dataframe thead th {\n",
       "        text-align: right;\n",
       "    }\n",
       "</style>\n",
       "<table border=\"1\" class=\"dataframe\">\n",
       "  <thead>\n",
       "    <tr style=\"text-align: right;\">\n",
       "      <th></th>\n",
       "      <th>sq_mt</th>\n",
       "      <th>bedroom_n</th>\n",
       "      <th>bathroom_n</th>\n",
       "      <th>Arganzuela</th>\n",
       "      <th>Barajas</th>\n",
       "      <th>Carabanchel</th>\n",
       "      <th>Centro</th>\n",
       "      <th>Chamartín</th>\n",
       "      <th>Chamberí</th>\n",
       "      <th>Ciudad Lineal</th>\n",
       "      <th>...</th>\n",
       "      <th>Moratalaz</th>\n",
       "      <th>Puente de Vallecas</th>\n",
       "      <th>Retiro</th>\n",
       "      <th>Salamanca</th>\n",
       "      <th>San Blas</th>\n",
       "      <th>Tetuán</th>\n",
       "      <th>Usera</th>\n",
       "      <th>Vicálvaro</th>\n",
       "      <th>Villa de Vallecas</th>\n",
       "      <th>Villaverde</th>\n",
       "    </tr>\n",
       "  </thead>\n",
       "  <tbody>\n",
       "    <tr>\n",
       "      <th>193</th>\n",
       "      <td>3.806662</td>\n",
       "      <td>0.000000</td>\n",
       "      <td>0.693147</td>\n",
       "      <td>0</td>\n",
       "      <td>0</td>\n",
       "      <td>0</td>\n",
       "      <td>1</td>\n",
       "      <td>0</td>\n",
       "      <td>0</td>\n",
       "      <td>0</td>\n",
       "      <td>...</td>\n",
       "      <td>0</td>\n",
       "      <td>0</td>\n",
       "      <td>0</td>\n",
       "      <td>0</td>\n",
       "      <td>0</td>\n",
       "      <td>0</td>\n",
       "      <td>0</td>\n",
       "      <td>0</td>\n",
       "      <td>0</td>\n",
       "      <td>0</td>\n",
       "    </tr>\n",
       "    <tr>\n",
       "      <th>4500</th>\n",
       "      <td>4.007333</td>\n",
       "      <td>0.000000</td>\n",
       "      <td>0.000000</td>\n",
       "      <td>0</td>\n",
       "      <td>0</td>\n",
       "      <td>0</td>\n",
       "      <td>0</td>\n",
       "      <td>0</td>\n",
       "      <td>0</td>\n",
       "      <td>0</td>\n",
       "      <td>...</td>\n",
       "      <td>0</td>\n",
       "      <td>0</td>\n",
       "      <td>0</td>\n",
       "      <td>1</td>\n",
       "      <td>0</td>\n",
       "      <td>0</td>\n",
       "      <td>0</td>\n",
       "      <td>0</td>\n",
       "      <td>0</td>\n",
       "      <td>0</td>\n",
       "    </tr>\n",
       "    <tr>\n",
       "      <th>1277</th>\n",
       "      <td>4.143135</td>\n",
       "      <td>0.000000</td>\n",
       "      <td>0.000000</td>\n",
       "      <td>0</td>\n",
       "      <td>0</td>\n",
       "      <td>0</td>\n",
       "      <td>0</td>\n",
       "      <td>0</td>\n",
       "      <td>0</td>\n",
       "      <td>0</td>\n",
       "      <td>...</td>\n",
       "      <td>0</td>\n",
       "      <td>0</td>\n",
       "      <td>0</td>\n",
       "      <td>1</td>\n",
       "      <td>0</td>\n",
       "      <td>0</td>\n",
       "      <td>0</td>\n",
       "      <td>0</td>\n",
       "      <td>0</td>\n",
       "      <td>0</td>\n",
       "    </tr>\n",
       "    <tr>\n",
       "      <th>3576</th>\n",
       "      <td>5.480639</td>\n",
       "      <td>1.386294</td>\n",
       "      <td>1.609438</td>\n",
       "      <td>0</td>\n",
       "      <td>0</td>\n",
       "      <td>0</td>\n",
       "      <td>0</td>\n",
       "      <td>0</td>\n",
       "      <td>0</td>\n",
       "      <td>0</td>\n",
       "      <td>...</td>\n",
       "      <td>0</td>\n",
       "      <td>0</td>\n",
       "      <td>0</td>\n",
       "      <td>1</td>\n",
       "      <td>0</td>\n",
       "      <td>0</td>\n",
       "      <td>0</td>\n",
       "      <td>0</td>\n",
       "      <td>0</td>\n",
       "      <td>0</td>\n",
       "    </tr>\n",
       "    <tr>\n",
       "      <th>4258</th>\n",
       "      <td>3.850148</td>\n",
       "      <td>0.693147</td>\n",
       "      <td>0.000000</td>\n",
       "      <td>0</td>\n",
       "      <td>0</td>\n",
       "      <td>0</td>\n",
       "      <td>0</td>\n",
       "      <td>0</td>\n",
       "      <td>0</td>\n",
       "      <td>0</td>\n",
       "      <td>...</td>\n",
       "      <td>0</td>\n",
       "      <td>0</td>\n",
       "      <td>0</td>\n",
       "      <td>0</td>\n",
       "      <td>0</td>\n",
       "      <td>0</td>\n",
       "      <td>0</td>\n",
       "      <td>0</td>\n",
       "      <td>0</td>\n",
       "      <td>0</td>\n",
       "    </tr>\n",
       "    <tr>\n",
       "      <th>...</th>\n",
       "      <td>...</td>\n",
       "      <td>...</td>\n",
       "      <td>...</td>\n",
       "      <td>...</td>\n",
       "      <td>...</td>\n",
       "      <td>...</td>\n",
       "      <td>...</td>\n",
       "      <td>...</td>\n",
       "      <td>...</td>\n",
       "      <td>...</td>\n",
       "      <td>...</td>\n",
       "      <td>...</td>\n",
       "      <td>...</td>\n",
       "      <td>...</td>\n",
       "      <td>...</td>\n",
       "      <td>...</td>\n",
       "      <td>...</td>\n",
       "      <td>...</td>\n",
       "      <td>...</td>\n",
       "      <td>...</td>\n",
       "      <td>...</td>\n",
       "    </tr>\n",
       "    <tr>\n",
       "      <th>1432</th>\n",
       "      <td>4.007333</td>\n",
       "      <td>1.098612</td>\n",
       "      <td>0.000000</td>\n",
       "      <td>0</td>\n",
       "      <td>0</td>\n",
       "      <td>0</td>\n",
       "      <td>0</td>\n",
       "      <td>0</td>\n",
       "      <td>0</td>\n",
       "      <td>0</td>\n",
       "      <td>...</td>\n",
       "      <td>0</td>\n",
       "      <td>0</td>\n",
       "      <td>0</td>\n",
       "      <td>0</td>\n",
       "      <td>1</td>\n",
       "      <td>0</td>\n",
       "      <td>0</td>\n",
       "      <td>0</td>\n",
       "      <td>0</td>\n",
       "      <td>0</td>\n",
       "    </tr>\n",
       "    <tr>\n",
       "      <th>3388</th>\n",
       "      <td>3.688879</td>\n",
       "      <td>0.000000</td>\n",
       "      <td>0.000000</td>\n",
       "      <td>0</td>\n",
       "      <td>0</td>\n",
       "      <td>0</td>\n",
       "      <td>1</td>\n",
       "      <td>0</td>\n",
       "      <td>0</td>\n",
       "      <td>0</td>\n",
       "      <td>...</td>\n",
       "      <td>0</td>\n",
       "      <td>0</td>\n",
       "      <td>0</td>\n",
       "      <td>0</td>\n",
       "      <td>0</td>\n",
       "      <td>0</td>\n",
       "      <td>0</td>\n",
       "      <td>0</td>\n",
       "      <td>0</td>\n",
       "      <td>0</td>\n",
       "    </tr>\n",
       "    <tr>\n",
       "      <th>1250</th>\n",
       "      <td>4.248495</td>\n",
       "      <td>0.693147</td>\n",
       "      <td>0.000000</td>\n",
       "      <td>0</td>\n",
       "      <td>0</td>\n",
       "      <td>0</td>\n",
       "      <td>0</td>\n",
       "      <td>0</td>\n",
       "      <td>0</td>\n",
       "      <td>0</td>\n",
       "      <td>...</td>\n",
       "      <td>0</td>\n",
       "      <td>0</td>\n",
       "      <td>0</td>\n",
       "      <td>0</td>\n",
       "      <td>0</td>\n",
       "      <td>0</td>\n",
       "      <td>0</td>\n",
       "      <td>0</td>\n",
       "      <td>0</td>\n",
       "      <td>0</td>\n",
       "    </tr>\n",
       "    <tr>\n",
       "      <th>4484</th>\n",
       "      <td>4.174387</td>\n",
       "      <td>0.693147</td>\n",
       "      <td>0.000000</td>\n",
       "      <td>0</td>\n",
       "      <td>0</td>\n",
       "      <td>0</td>\n",
       "      <td>0</td>\n",
       "      <td>0</td>\n",
       "      <td>0</td>\n",
       "      <td>0</td>\n",
       "      <td>...</td>\n",
       "      <td>0</td>\n",
       "      <td>0</td>\n",
       "      <td>0</td>\n",
       "      <td>1</td>\n",
       "      <td>0</td>\n",
       "      <td>0</td>\n",
       "      <td>0</td>\n",
       "      <td>0</td>\n",
       "      <td>0</td>\n",
       "      <td>0</td>\n",
       "    </tr>\n",
       "    <tr>\n",
       "      <th>1106</th>\n",
       "      <td>3.401197</td>\n",
       "      <td>0.000000</td>\n",
       "      <td>0.000000</td>\n",
       "      <td>0</td>\n",
       "      <td>0</td>\n",
       "      <td>0</td>\n",
       "      <td>0</td>\n",
       "      <td>0</td>\n",
       "      <td>1</td>\n",
       "      <td>0</td>\n",
       "      <td>...</td>\n",
       "      <td>0</td>\n",
       "      <td>0</td>\n",
       "      <td>0</td>\n",
       "      <td>0</td>\n",
       "      <td>0</td>\n",
       "      <td>0</td>\n",
       "      <td>0</td>\n",
       "      <td>0</td>\n",
       "      <td>0</td>\n",
       "      <td>0</td>\n",
       "    </tr>\n",
       "  </tbody>\n",
       "</table>\n",
       "<p>3646 rows × 24 columns</p>\n",
       "</div>"
      ],
      "text/plain": [
       "         sq_mt  bedroom_n  bathroom_n  Arganzuela  Barajas  Carabanchel  \\\n",
       "193   3.806662   0.000000    0.693147           0        0            0   \n",
       "4500  4.007333   0.000000    0.000000           0        0            0   \n",
       "1277  4.143135   0.000000    0.000000           0        0            0   \n",
       "3576  5.480639   1.386294    1.609438           0        0            0   \n",
       "4258  3.850148   0.693147    0.000000           0        0            0   \n",
       "...        ...        ...         ...         ...      ...          ...   \n",
       "1432  4.007333   1.098612    0.000000           0        0            0   \n",
       "3388  3.688879   0.000000    0.000000           0        0            0   \n",
       "1250  4.248495   0.693147    0.000000           0        0            0   \n",
       "4484  4.174387   0.693147    0.000000           0        0            0   \n",
       "1106  3.401197   0.000000    0.000000           0        0            0   \n",
       "\n",
       "      Centro  Chamartín  Chamberí  Ciudad Lineal  ...  Moratalaz  \\\n",
       "193        1          0         0              0  ...          0   \n",
       "4500       0          0         0              0  ...          0   \n",
       "1277       0          0         0              0  ...          0   \n",
       "3576       0          0         0              0  ...          0   \n",
       "4258       0          0         0              0  ...          0   \n",
       "...      ...        ...       ...            ...  ...        ...   \n",
       "1432       0          0         0              0  ...          0   \n",
       "3388       1          0         0              0  ...          0   \n",
       "1250       0          0         0              0  ...          0   \n",
       "4484       0          0         0              0  ...          0   \n",
       "1106       0          0         1              0  ...          0   \n",
       "\n",
       "      Puente de Vallecas  Retiro  Salamanca  San Blas  Tetuán  Usera  \\\n",
       "193                    0       0          0         0       0      0   \n",
       "4500                   0       0          1         0       0      0   \n",
       "1277                   0       0          1         0       0      0   \n",
       "3576                   0       0          1         0       0      0   \n",
       "4258                   0       0          0         0       0      0   \n",
       "...                  ...     ...        ...       ...     ...    ...   \n",
       "1432                   0       0          0         1       0      0   \n",
       "3388                   0       0          0         0       0      0   \n",
       "1250                   0       0          0         0       0      0   \n",
       "4484                   0       0          1         0       0      0   \n",
       "1106                   0       0          0         0       0      0   \n",
       "\n",
       "      Vicálvaro  Villa de Vallecas  Villaverde  \n",
       "193           0                  0           0  \n",
       "4500          0                  0           0  \n",
       "1277          0                  0           0  \n",
       "3576          0                  0           0  \n",
       "4258          0                  0           0  \n",
       "...         ...                ...         ...  \n",
       "1432          0                  0           0  \n",
       "3388          0                  0           0  \n",
       "1250          0                  0           0  \n",
       "4484          0                  0           0  \n",
       "1106          0                  0           0  \n",
       "\n",
       "[3646 rows x 24 columns]"
      ]
     },
     "execution_count": 126,
     "metadata": {},
     "output_type": "execute_result"
    }
   ],
   "source": [
    "X_train"
   ]
  },
  {
   "cell_type": "code",
   "execution_count": 171,
   "metadata": {},
   "outputs": [
    {
     "name": "stdout",
     "output_type": "stream",
     "text": [
      "[4.86753445 1.09861229 0.69314718 0.         0.         0.\n",
      " 0.         1.         0.         0.         0.         0.\n",
      " 0.         0.         0.         0.         0.         0.\n",
      " 0.         0.         0.         0.         0.         0.        ]\n"
     ]
    },
    {
     "data": {
      "text/plain": [
       "'1927.0 euros'"
      ]
     },
     "execution_count": 171,
     "metadata": {},
     "output_type": "execute_result"
    }
   ],
   "source": [
    "predict_price('Chamartín',130,3,2)"
   ]
  },
  {
   "cell_type": "markdown",
   "metadata": {},
   "source": [
    "# 5. Productionazing the model"
   ]
  },
  {
   "cell_type": "code",
   "execution_count": 128,
   "metadata": {},
   "outputs": [],
   "source": [
    "import pickle\n",
    "with open (\"Madrid_rent_price.pickle\", \"wb\") as f:\n",
    "    pickle.dump(SVR,f)"
   ]
  },
  {
   "cell_type": "code",
   "execution_count": 129,
   "metadata": {},
   "outputs": [],
   "source": [
    "import json\n",
    "columns = {\"data_columns\":[col.lower() for col in X.columns]}\n",
    "with open(\"columns.json\", \"w\") as f:\n",
    "    f.write(json.dumps(columns))"
   ]
  },
  {
   "cell_type": "code",
   "execution_count": 132,
   "metadata": {},
   "outputs": [],
   "source": [
    "from pickle import load\n",
    "with open(\"Madrid_rent_price.pickle\", 'rb') as pickle_file:\n",
    "    model = pickle.load(pickle_file)"
   ]
  },
  {
   "cell_type": "code",
   "execution_count": 190,
   "metadata": {},
   "outputs": [
    {
     "data": {
      "text/plain": [
       "'1119.0 euros'"
      ]
     },
     "execution_count": 190,
     "metadata": {},
     "output_type": "execute_result"
    }
   ],
   "source": [
    "\" \".join((str(round((inv_boxcox(model.predict(X_test.iloc[0].values.reshape(1, -1)),0)[0]))),\"euros\"))\n",
    "# predicting the price of th 1st house listed in the X_test set"
   ]
  }
 ],
 "metadata": {
  "kernelspec": {
   "display_name": "your_env_name",
   "language": "python",
   "name": "your_env_name"
  },
  "language_info": {
   "codemirror_mode": {
    "name": "ipython",
    "version": 3
   },
   "file_extension": ".py",
   "mimetype": "text/x-python",
   "name": "python",
   "nbconvert_exporter": "python",
   "pygments_lexer": "ipython3",
   "version": "3.7.4"
  }
 },
 "nbformat": 4,
 "nbformat_minor": 4
}
